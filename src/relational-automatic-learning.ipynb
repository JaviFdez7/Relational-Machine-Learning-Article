{
 "cells": [
  {
   "cell_type": "markdown",
   "metadata": {},
   "source": [
    "<h1 style=\"font-size: 50px;\">Relational Automatic Learning</h1>\n",
    "\n",
    "<div style=\"width: 100%; height: 1px; background-color: black; margin-top: 20px; margin-bottom: 20px\"></div>"
   ]
  },
  {
   "cell_type": "markdown",
   "metadata": {},
   "source": [
    "<h3>Importando librerías</h3>"
   ]
  },
  {
   "cell_type": "code",
   "execution_count": 3,
   "metadata": {},
   "outputs": [],
   "source": [
    "#Abrirlo desde jupyter (no desde sage)\n",
    "\n",
    "#!pip install networkx\n",
    "#!pip install scikit-learn\n",
    "\n",
    "import networkx as nx\n",
    "import sklearn as sk\n",
    "\n",
    "import pandas\n",
    "import numpy\n",
    "import matplotlib.pyplot as plt"
   ]
  },
  {
   "cell_type": "markdown",
   "metadata": {},
   "source": [
    "<h3>Variables de configuración</h3>"
   ]
  },
  {
   "cell_type": "code",
   "execution_count": 4,
   "metadata": {},
   "outputs": [],
   "source": [
    "numberOfNodes = 20000 #Recomendado 20000 para reducir tiempos de ejecución"
   ]
  },
  {
   "cell_type": "markdown",
   "metadata": {},
   "source": [
    "<h3>Lectura de nodos (Artists)</h3>"
   ]
  },
  {
   "cell_type": "code",
   "execution_count": 5,
   "metadata": {},
   "outputs": [],
   "source": [
    "spotifyArtists = pandas.read_csv('../data/nodes.csv', header=1, low_memory=False,\n",
    "                          names=['spotify_id','name','followers','popularity','genres','chart_hits'])"
   ]
  },
  {
   "cell_type": "code",
   "execution_count": 6,
   "metadata": {},
   "outputs": [
    {
     "name": "stdout",
     "output_type": "stream",
     "text": [
      "(156421, 6)\n"
     ]
    }
   ],
   "source": [
    "print(spotifyArtists.shape)"
   ]
  },
  {
   "cell_type": "code",
   "execution_count": 7,
   "metadata": {
    "scrolled": true
   },
   "outputs": [
    {
     "data": {
      "text/html": [
       "<div>\n",
       "<style scoped>\n",
       "    .dataframe tbody tr th:only-of-type {\n",
       "        vertical-align: middle;\n",
       "    }\n",
       "\n",
       "    .dataframe tbody tr th {\n",
       "        vertical-align: top;\n",
       "    }\n",
       "\n",
       "    .dataframe thead th {\n",
       "        text-align: right;\n",
       "    }\n",
       "</style>\n",
       "<table border=\"1\" class=\"dataframe\">\n",
       "  <thead>\n",
       "    <tr style=\"text-align: right;\">\n",
       "      <th></th>\n",
       "      <th>spotify_id</th>\n",
       "      <th>name</th>\n",
       "      <th>followers</th>\n",
       "      <th>popularity</th>\n",
       "      <th>genres</th>\n",
       "      <th>chart_hits</th>\n",
       "    </tr>\n",
       "  </thead>\n",
       "  <tbody>\n",
       "    <tr>\n",
       "      <th>0</th>\n",
       "      <td>4lDiJcOJ2GLCK6p9q5BgfK</td>\n",
       "      <td>Kontra K</td>\n",
       "      <td>1999676.0</td>\n",
       "      <td>72</td>\n",
       "      <td>['christlicher rap', 'german hip hop']</td>\n",
       "      <td>['at (44)', 'de (111)', 'lu (22)', 'ch (31)', ...</td>\n",
       "    </tr>\n",
       "    <tr>\n",
       "      <th>1</th>\n",
       "      <td>652XIvIBNGg3C0KIGEJWit</td>\n",
       "      <td>Maxim</td>\n",
       "      <td>34596.0</td>\n",
       "      <td>36</td>\n",
       "      <td>[]</td>\n",
       "      <td>['de (1)']</td>\n",
       "    </tr>\n",
       "    <tr>\n",
       "      <th>2</th>\n",
       "      <td>3dXC1YPbnQPsfHPVkm1ipj</td>\n",
       "      <td>Christopher Martin</td>\n",
       "      <td>249233.0</td>\n",
       "      <td>52</td>\n",
       "      <td>['dancehall', 'lovers rock', 'modern reggae', ...</td>\n",
       "      <td>['at (1)', 'de (1)']</td>\n",
       "    </tr>\n",
       "    <tr>\n",
       "      <th>3</th>\n",
       "      <td>74terC9ol9zMo8rfzhSOiG</td>\n",
       "      <td>Jakob Hellman</td>\n",
       "      <td>21193.0</td>\n",
       "      <td>39</td>\n",
       "      <td>['classic swedish pop', 'norrbotten indie', 's...</td>\n",
       "      <td>['se (6)']</td>\n",
       "    </tr>\n",
       "    <tr>\n",
       "      <th>4</th>\n",
       "      <td>0FQMb3mVrAKlyU4H5mQOJh</td>\n",
       "      <td>Madh</td>\n",
       "      <td>26677.0</td>\n",
       "      <td>19</td>\n",
       "      <td>[]</td>\n",
       "      <td>['it (2)']</td>\n",
       "    </tr>\n",
       "    <tr>\n",
       "      <th>5</th>\n",
       "      <td>71BhXa24Zf5zcikUb00l2N</td>\n",
       "      <td>Juice</td>\n",
       "      <td>11312.0</td>\n",
       "      <td>37</td>\n",
       "      <td>['swedish drill', 'swedish hip hop', 'swedish ...</td>\n",
       "      <td>['se (4)']</td>\n",
       "    </tr>\n",
       "    <tr>\n",
       "      <th>6</th>\n",
       "      <td>3TG1RXLaEhHz5SIPMWahit</td>\n",
       "      <td>Nehuda</td>\n",
       "      <td>36252.0</td>\n",
       "      <td>31</td>\n",
       "      <td>['francoton']</td>\n",
       "      <td>['fr (1)']</td>\n",
       "    </tr>\n",
       "    <tr>\n",
       "      <th>7</th>\n",
       "      <td>7MFvm8pwjLdmVBZddGNiQH</td>\n",
       "      <td>VovaZiLvova</td>\n",
       "      <td>14619.0</td>\n",
       "      <td>43</td>\n",
       "      <td>['ukrainian hip hop', 'ukrainian pop', 'ukrain...</td>\n",
       "      <td>['ua (1)']</td>\n",
       "    </tr>\n",
       "    <tr>\n",
       "      <th>8</th>\n",
       "      <td>5I82NM6jN4Y267iHwVeNR9</td>\n",
       "      <td>Nata Record</td>\n",
       "      <td>188.0</td>\n",
       "      <td>12</td>\n",
       "      <td>[]</td>\n",
       "      <td>['do (1)']</td>\n",
       "    </tr>\n",
       "    <tr>\n",
       "      <th>9</th>\n",
       "      <td>5OkJ74jazRprW3kCTjfgOL</td>\n",
       "      <td>Yomi</td>\n",
       "      <td>7246.0</td>\n",
       "      <td>30</td>\n",
       "      <td>['norwegian pop rap']</td>\n",
       "      <td>['no (2)']</td>\n",
       "    </tr>\n",
       "  </tbody>\n",
       "</table>\n",
       "</div>"
      ],
      "text/plain": [
       "               spotify_id                name  followers  popularity  \\\n",
       "0  4lDiJcOJ2GLCK6p9q5BgfK            Kontra K  1999676.0          72   \n",
       "1  652XIvIBNGg3C0KIGEJWit               Maxim    34596.0          36   \n",
       "2  3dXC1YPbnQPsfHPVkm1ipj  Christopher Martin   249233.0          52   \n",
       "3  74terC9ol9zMo8rfzhSOiG       Jakob Hellman    21193.0          39   \n",
       "4  0FQMb3mVrAKlyU4H5mQOJh                Madh    26677.0          19   \n",
       "5  71BhXa24Zf5zcikUb00l2N               Juice    11312.0          37   \n",
       "6  3TG1RXLaEhHz5SIPMWahit              Nehuda    36252.0          31   \n",
       "7  7MFvm8pwjLdmVBZddGNiQH         VovaZiLvova    14619.0          43   \n",
       "8  5I82NM6jN4Y267iHwVeNR9         Nata Record      188.0          12   \n",
       "9  5OkJ74jazRprW3kCTjfgOL                Yomi     7246.0          30   \n",
       "\n",
       "                                              genres  \\\n",
       "0             ['christlicher rap', 'german hip hop']   \n",
       "1                                                 []   \n",
       "2  ['dancehall', 'lovers rock', 'modern reggae', ...   \n",
       "3  ['classic swedish pop', 'norrbotten indie', 's...   \n",
       "4                                                 []   \n",
       "5  ['swedish drill', 'swedish hip hop', 'swedish ...   \n",
       "6                                      ['francoton']   \n",
       "7  ['ukrainian hip hop', 'ukrainian pop', 'ukrain...   \n",
       "8                                                 []   \n",
       "9                              ['norwegian pop rap']   \n",
       "\n",
       "                                          chart_hits  \n",
       "0  ['at (44)', 'de (111)', 'lu (22)', 'ch (31)', ...  \n",
       "1                                         ['de (1)']  \n",
       "2                               ['at (1)', 'de (1)']  \n",
       "3                                         ['se (6)']  \n",
       "4                                         ['it (2)']  \n",
       "5                                         ['se (4)']  \n",
       "6                                         ['fr (1)']  \n",
       "7                                         ['ua (1)']  \n",
       "8                                         ['do (1)']  \n",
       "9                                         ['no (2)']  "
      ]
     },
     "execution_count": 7,
     "metadata": {},
     "output_type": "execute_result"
    }
   ],
   "source": [
    "# 10 primeras filas\n",
    "spotifyArtists.head(10)"
   ]
  },
  {
   "cell_type": "markdown",
   "metadata": {},
   "source": [
    "<h3>Lectura de aristas (Artists feats)</h3>"
   ]
  },
  {
   "cell_type": "code",
   "execution_count": 8,
   "metadata": {},
   "outputs": [],
   "source": [
    "artistsFeats = pandas.read_csv('../data/edges.csv', header=1, low_memory=False,\n",
    "                          names=['id_0','id_1'])"
   ]
  },
  {
   "cell_type": "code",
   "execution_count": 9,
   "metadata": {},
   "outputs": [
    {
     "name": "stdout",
     "output_type": "stream",
     "text": [
      "(300385, 2)\n"
     ]
    }
   ],
   "source": [
    "print(artistsFeats.shape)"
   ]
  },
  {
   "cell_type": "code",
   "execution_count": 10,
   "metadata": {},
   "outputs": [
    {
     "data": {
      "text/html": [
       "<div>\n",
       "<style scoped>\n",
       "    .dataframe tbody tr th:only-of-type {\n",
       "        vertical-align: middle;\n",
       "    }\n",
       "\n",
       "    .dataframe tbody tr th {\n",
       "        vertical-align: top;\n",
       "    }\n",
       "\n",
       "    .dataframe thead th {\n",
       "        text-align: right;\n",
       "    }\n",
       "</style>\n",
       "<table border=\"1\" class=\"dataframe\">\n",
       "  <thead>\n",
       "    <tr style=\"text-align: right;\">\n",
       "      <th></th>\n",
       "      <th>id_0</th>\n",
       "      <th>id_1</th>\n",
       "    </tr>\n",
       "  </thead>\n",
       "  <tbody>\n",
       "    <tr>\n",
       "      <th>0</th>\n",
       "      <td>0hk4xVujcyOr6USD95wcWb</td>\n",
       "      <td>7Do8se3ZoaVqUt3woqqSrD</td>\n",
       "    </tr>\n",
       "    <tr>\n",
       "      <th>1</th>\n",
       "      <td>38jpuy3yt3QIxQ8Fn1HTeJ</td>\n",
       "      <td>4csQIMQm6vI2A2SCVDuM2z</td>\n",
       "    </tr>\n",
       "    <tr>\n",
       "      <th>2</th>\n",
       "      <td>6PvcxssrQ0QaJVaBWHD07l</td>\n",
       "      <td>6UCQYrcJ6wab6gnQ89OJFh</td>\n",
       "    </tr>\n",
       "    <tr>\n",
       "      <th>3</th>\n",
       "      <td>2R1QrQqWuw3IjoP5dXRFjt</td>\n",
       "      <td>4mk1ScvOUkuQzzCZpT6bc0</td>\n",
       "    </tr>\n",
       "    <tr>\n",
       "      <th>4</th>\n",
       "      <td>0k70gnDBLPirCltbTzoxuM</td>\n",
       "      <td>5FK3qokBQYxr7ZLkr8GVFn</td>\n",
       "    </tr>\n",
       "    <tr>\n",
       "      <th>5</th>\n",
       "      <td>1bAftSH8umNcGZ0uyV7LMg</td>\n",
       "      <td>1vqR17Iv8VFdzure1TAXEq</td>\n",
       "    </tr>\n",
       "    <tr>\n",
       "      <th>6</th>\n",
       "      <td>21ey6s5hEcTcVKDrF5MWby</td>\n",
       "      <td>7uMh23xWiuR7zsNkuNcm2G</td>\n",
       "    </tr>\n",
       "    <tr>\n",
       "      <th>7</th>\n",
       "      <td>1mYsTxnqsietFxj1OgoGbG</td>\n",
       "      <td>7snhzmuew8iLEDxMIhOU1P</td>\n",
       "    </tr>\n",
       "    <tr>\n",
       "      <th>8</th>\n",
       "      <td>3GBBxBdoolb0B5YizZq9bF</td>\n",
       "      <td>3yayE6rrovGcNkMManKwVf</td>\n",
       "    </tr>\n",
       "    <tr>\n",
       "      <th>9</th>\n",
       "      <td>2I9SLklAOG0vdMiUUMNxRl</td>\n",
       "      <td>4IprNlQiJZUUJhDl0fL2SL</td>\n",
       "    </tr>\n",
       "  </tbody>\n",
       "</table>\n",
       "</div>"
      ],
      "text/plain": [
       "                     id_0                    id_1\n",
       "0  0hk4xVujcyOr6USD95wcWb  7Do8se3ZoaVqUt3woqqSrD\n",
       "1  38jpuy3yt3QIxQ8Fn1HTeJ  4csQIMQm6vI2A2SCVDuM2z\n",
       "2  6PvcxssrQ0QaJVaBWHD07l  6UCQYrcJ6wab6gnQ89OJFh\n",
       "3  2R1QrQqWuw3IjoP5dXRFjt  4mk1ScvOUkuQzzCZpT6bc0\n",
       "4  0k70gnDBLPirCltbTzoxuM  5FK3qokBQYxr7ZLkr8GVFn\n",
       "5  1bAftSH8umNcGZ0uyV7LMg  1vqR17Iv8VFdzure1TAXEq\n",
       "6  21ey6s5hEcTcVKDrF5MWby  7uMh23xWiuR7zsNkuNcm2G\n",
       "7  1mYsTxnqsietFxj1OgoGbG  7snhzmuew8iLEDxMIhOU1P\n",
       "8  3GBBxBdoolb0B5YizZq9bF  3yayE6rrovGcNkMManKwVf\n",
       "9  2I9SLklAOG0vdMiUUMNxRl  4IprNlQiJZUUJhDl0fL2SL"
      ]
     },
     "execution_count": 10,
     "metadata": {},
     "output_type": "execute_result"
    }
   ],
   "source": [
    "# 10 primeras filas\n",
    "artistsFeats.head(10)"
   ]
  },
  {
   "cell_type": "markdown",
   "metadata": {},
   "source": [
    "<h3>Subconjunto de 20.000 nodos</h3>\n",
    "</br>\n",
    "<div>Nos quedamos con los 20 mil primeros nodos y las aristas, que en origen y destino, apunten a dichos nodos.</div>"
   ]
  },
  {
   "cell_type": "markdown",
   "metadata": {},
   "source": [
    "<h4>Subconjunto de nodos</h4>"
   ]
  },
  {
   "cell_type": "code",
   "execution_count": 11,
   "metadata": {},
   "outputs": [
    {
     "name": "stdout",
     "output_type": "stream",
     "text": [
      "(20000, 6)\n"
     ]
    },
    {
     "data": {
      "text/html": [
       "<div>\n",
       "<style scoped>\n",
       "    .dataframe tbody tr th:only-of-type {\n",
       "        vertical-align: middle;\n",
       "    }\n",
       "\n",
       "    .dataframe tbody tr th {\n",
       "        vertical-align: top;\n",
       "    }\n",
       "\n",
       "    .dataframe thead th {\n",
       "        text-align: right;\n",
       "    }\n",
       "</style>\n",
       "<table border=\"1\" class=\"dataframe\">\n",
       "  <thead>\n",
       "    <tr style=\"text-align: right;\">\n",
       "      <th></th>\n",
       "      <th>spotify_id</th>\n",
       "      <th>name</th>\n",
       "      <th>followers</th>\n",
       "      <th>popularity</th>\n",
       "      <th>genres</th>\n",
       "      <th>chart_hits</th>\n",
       "    </tr>\n",
       "  </thead>\n",
       "  <tbody>\n",
       "    <tr>\n",
       "      <th>0</th>\n",
       "      <td>4lDiJcOJ2GLCK6p9q5BgfK</td>\n",
       "      <td>Kontra K</td>\n",
       "      <td>1999676.0</td>\n",
       "      <td>72</td>\n",
       "      <td>['christlicher rap', 'german hip hop']</td>\n",
       "      <td>['at (44)', 'de (111)', 'lu (22)', 'ch (31)', ...</td>\n",
       "    </tr>\n",
       "    <tr>\n",
       "      <th>1</th>\n",
       "      <td>652XIvIBNGg3C0KIGEJWit</td>\n",
       "      <td>Maxim</td>\n",
       "      <td>34596.0</td>\n",
       "      <td>36</td>\n",
       "      <td>[]</td>\n",
       "      <td>['de (1)']</td>\n",
       "    </tr>\n",
       "    <tr>\n",
       "      <th>2</th>\n",
       "      <td>3dXC1YPbnQPsfHPVkm1ipj</td>\n",
       "      <td>Christopher Martin</td>\n",
       "      <td>249233.0</td>\n",
       "      <td>52</td>\n",
       "      <td>['dancehall', 'lovers rock', 'modern reggae', ...</td>\n",
       "      <td>['at (1)', 'de (1)']</td>\n",
       "    </tr>\n",
       "    <tr>\n",
       "      <th>3</th>\n",
       "      <td>74terC9ol9zMo8rfzhSOiG</td>\n",
       "      <td>Jakob Hellman</td>\n",
       "      <td>21193.0</td>\n",
       "      <td>39</td>\n",
       "      <td>['classic swedish pop', 'norrbotten indie', 's...</td>\n",
       "      <td>['se (6)']</td>\n",
       "    </tr>\n",
       "    <tr>\n",
       "      <th>4</th>\n",
       "      <td>0FQMb3mVrAKlyU4H5mQOJh</td>\n",
       "      <td>Madh</td>\n",
       "      <td>26677.0</td>\n",
       "      <td>19</td>\n",
       "      <td>[]</td>\n",
       "      <td>['it (2)']</td>\n",
       "    </tr>\n",
       "    <tr>\n",
       "      <th>5</th>\n",
       "      <td>71BhXa24Zf5zcikUb00l2N</td>\n",
       "      <td>Juice</td>\n",
       "      <td>11312.0</td>\n",
       "      <td>37</td>\n",
       "      <td>['swedish drill', 'swedish hip hop', 'swedish ...</td>\n",
       "      <td>['se (4)']</td>\n",
       "    </tr>\n",
       "    <tr>\n",
       "      <th>6</th>\n",
       "      <td>3TG1RXLaEhHz5SIPMWahit</td>\n",
       "      <td>Nehuda</td>\n",
       "      <td>36252.0</td>\n",
       "      <td>31</td>\n",
       "      <td>['francoton']</td>\n",
       "      <td>['fr (1)']</td>\n",
       "    </tr>\n",
       "    <tr>\n",
       "      <th>7</th>\n",
       "      <td>7MFvm8pwjLdmVBZddGNiQH</td>\n",
       "      <td>VovaZiLvova</td>\n",
       "      <td>14619.0</td>\n",
       "      <td>43</td>\n",
       "      <td>['ukrainian hip hop', 'ukrainian pop', 'ukrain...</td>\n",
       "      <td>['ua (1)']</td>\n",
       "    </tr>\n",
       "    <tr>\n",
       "      <th>8</th>\n",
       "      <td>5I82NM6jN4Y267iHwVeNR9</td>\n",
       "      <td>Nata Record</td>\n",
       "      <td>188.0</td>\n",
       "      <td>12</td>\n",
       "      <td>[]</td>\n",
       "      <td>['do (1)']</td>\n",
       "    </tr>\n",
       "    <tr>\n",
       "      <th>9</th>\n",
       "      <td>5OkJ74jazRprW3kCTjfgOL</td>\n",
       "      <td>Yomi</td>\n",
       "      <td>7246.0</td>\n",
       "      <td>30</td>\n",
       "      <td>['norwegian pop rap']</td>\n",
       "      <td>['no (2)']</td>\n",
       "    </tr>\n",
       "  </tbody>\n",
       "</table>\n",
       "</div>"
      ],
      "text/plain": [
       "               spotify_id                name  followers  popularity  \\\n",
       "0  4lDiJcOJ2GLCK6p9q5BgfK            Kontra K  1999676.0          72   \n",
       "1  652XIvIBNGg3C0KIGEJWit               Maxim    34596.0          36   \n",
       "2  3dXC1YPbnQPsfHPVkm1ipj  Christopher Martin   249233.0          52   \n",
       "3  74terC9ol9zMo8rfzhSOiG       Jakob Hellman    21193.0          39   \n",
       "4  0FQMb3mVrAKlyU4H5mQOJh                Madh    26677.0          19   \n",
       "5  71BhXa24Zf5zcikUb00l2N               Juice    11312.0          37   \n",
       "6  3TG1RXLaEhHz5SIPMWahit              Nehuda    36252.0          31   \n",
       "7  7MFvm8pwjLdmVBZddGNiQH         VovaZiLvova    14619.0          43   \n",
       "8  5I82NM6jN4Y267iHwVeNR9         Nata Record      188.0          12   \n",
       "9  5OkJ74jazRprW3kCTjfgOL                Yomi     7246.0          30   \n",
       "\n",
       "                                              genres  \\\n",
       "0             ['christlicher rap', 'german hip hop']   \n",
       "1                                                 []   \n",
       "2  ['dancehall', 'lovers rock', 'modern reggae', ...   \n",
       "3  ['classic swedish pop', 'norrbotten indie', 's...   \n",
       "4                                                 []   \n",
       "5  ['swedish drill', 'swedish hip hop', 'swedish ...   \n",
       "6                                      ['francoton']   \n",
       "7  ['ukrainian hip hop', 'ukrainian pop', 'ukrain...   \n",
       "8                                                 []   \n",
       "9                              ['norwegian pop rap']   \n",
       "\n",
       "                                          chart_hits  \n",
       "0  ['at (44)', 'de (111)', 'lu (22)', 'ch (31)', ...  \n",
       "1                                         ['de (1)']  \n",
       "2                               ['at (1)', 'de (1)']  \n",
       "3                                         ['se (6)']  \n",
       "4                                         ['it (2)']  \n",
       "5                                         ['se (4)']  \n",
       "6                                         ['fr (1)']  \n",
       "7                                         ['ua (1)']  \n",
       "8                                         ['do (1)']  \n",
       "9                                         ['no (2)']  "
      ]
     },
     "execution_count": 11,
     "metadata": {},
     "output_type": "execute_result"
    }
   ],
   "source": [
    "subSpotifyArtists = spotifyArtists.drop_duplicates(subset='spotify_id').head(numberOfNodes) #Elimina nodos duplicados (mismo id)\n",
    "\n",
    "print(subSpotifyArtists.shape)\n",
    "subSpotifyArtists.head(10)"
   ]
  },
  {
   "cell_type": "markdown",
   "metadata": {},
   "source": [
    "<h4>Subconjunto de aristas</h4>"
   ]
  },
  {
   "cell_type": "code",
   "execution_count": 12,
   "metadata": {},
   "outputs": [
    {
     "name": "stdout",
     "output_type": "stream",
     "text": [
      "(72944, 2)\n"
     ]
    },
    {
     "data": {
      "text/html": [
       "<div>\n",
       "<style scoped>\n",
       "    .dataframe tbody tr th:only-of-type {\n",
       "        vertical-align: middle;\n",
       "    }\n",
       "\n",
       "    .dataframe tbody tr th {\n",
       "        vertical-align: top;\n",
       "    }\n",
       "\n",
       "    .dataframe thead th {\n",
       "        text-align: right;\n",
       "    }\n",
       "</style>\n",
       "<table border=\"1\" class=\"dataframe\">\n",
       "  <thead>\n",
       "    <tr style=\"text-align: right;\">\n",
       "      <th></th>\n",
       "      <th>id_0</th>\n",
       "      <th>id_1</th>\n",
       "    </tr>\n",
       "  </thead>\n",
       "  <tbody>\n",
       "    <tr>\n",
       "      <th>0</th>\n",
       "      <td>0hk4xVujcyOr6USD95wcWb</td>\n",
       "      <td>7Do8se3ZoaVqUt3woqqSrD</td>\n",
       "    </tr>\n",
       "    <tr>\n",
       "      <th>4</th>\n",
       "      <td>0k70gnDBLPirCltbTzoxuM</td>\n",
       "      <td>5FK3qokBQYxr7ZLkr8GVFn</td>\n",
       "    </tr>\n",
       "    <tr>\n",
       "      <th>5</th>\n",
       "      <td>1bAftSH8umNcGZ0uyV7LMg</td>\n",
       "      <td>1vqR17Iv8VFdzure1TAXEq</td>\n",
       "    </tr>\n",
       "    <tr>\n",
       "      <th>6</th>\n",
       "      <td>21ey6s5hEcTcVKDrF5MWby</td>\n",
       "      <td>7uMh23xWiuR7zsNkuNcm2G</td>\n",
       "    </tr>\n",
       "    <tr>\n",
       "      <th>11</th>\n",
       "      <td>4Cmzjffz7uLaESQIWIs9G5</td>\n",
       "      <td>6XvZkxVvGXWhlDFTR6Q4sj</td>\n",
       "    </tr>\n",
       "    <tr>\n",
       "      <th>13</th>\n",
       "      <td>0OZ5IlVdYIK1Et3nW6aTO5</td>\n",
       "      <td>6eUofOqC7jS5aPeTa1a71y</td>\n",
       "    </tr>\n",
       "    <tr>\n",
       "      <th>16</th>\n",
       "      <td>0IpLJsvZHA1op1pw8GAoPu</td>\n",
       "      <td>2QjS2N6sORI7H4qbf6xitS</td>\n",
       "    </tr>\n",
       "    <tr>\n",
       "      <th>17</th>\n",
       "      <td>2oX42qP5ineK3hrhBECLmj</td>\n",
       "      <td>6aZyMrc4doVtZyKNilOmwu</td>\n",
       "    </tr>\n",
       "    <tr>\n",
       "      <th>25</th>\n",
       "      <td>2cPqdH7XMvwaBJEVjheH8g</td>\n",
       "      <td>329e4yvIujISKGKz1BZZbO</td>\n",
       "    </tr>\n",
       "    <tr>\n",
       "      <th>26</th>\n",
       "      <td>0t6A5IoqSxQzxmMoDkS9Cv</td>\n",
       "      <td>2Z9KL8Zmqx5Sg3cd7Fldhl</td>\n",
       "    </tr>\n",
       "  </tbody>\n",
       "</table>\n",
       "</div>"
      ],
      "text/plain": [
       "                      id_0                    id_1\n",
       "0   0hk4xVujcyOr6USD95wcWb  7Do8se3ZoaVqUt3woqqSrD\n",
       "4   0k70gnDBLPirCltbTzoxuM  5FK3qokBQYxr7ZLkr8GVFn\n",
       "5   1bAftSH8umNcGZ0uyV7LMg  1vqR17Iv8VFdzure1TAXEq\n",
       "6   21ey6s5hEcTcVKDrF5MWby  7uMh23xWiuR7zsNkuNcm2G\n",
       "11  4Cmzjffz7uLaESQIWIs9G5  6XvZkxVvGXWhlDFTR6Q4sj\n",
       "13  0OZ5IlVdYIK1Et3nW6aTO5  6eUofOqC7jS5aPeTa1a71y\n",
       "16  0IpLJsvZHA1op1pw8GAoPu  2QjS2N6sORI7H4qbf6xitS\n",
       "17  2oX42qP5ineK3hrhBECLmj  6aZyMrc4doVtZyKNilOmwu\n",
       "25  2cPqdH7XMvwaBJEVjheH8g  329e4yvIujISKGKz1BZZbO\n",
       "26  0t6A5IoqSxQzxmMoDkS9Cv  2Z9KL8Zmqx5Sg3cd7Fldhl"
      ]
     },
     "execution_count": 12,
     "metadata": {},
     "output_type": "execute_result"
    }
   ],
   "source": [
    "subArtistsFeat = artistsFeats[artistsFeats['id_0'].isin(subSpotifyArtists['spotify_id']) & artistsFeats['id_1'].isin(subSpotifyArtists['spotify_id'])]\n",
    "\n",
    "print(subArtistsFeat.shape)\n",
    "subArtistsFeat.head(10)"
   ]
  },
  {
   "cell_type": "markdown",
   "metadata": {},
   "source": [
    "<h3>Generando el grafo con NetworkX</h3>"
   ]
  },
  {
   "cell_type": "code",
   "execution_count": 13,
   "metadata": {},
   "outputs": [
    {
     "name": "stdout",
     "output_type": "stream",
     "text": [
      "Cantidad de nodos: 20000\n",
      "Cantidad de aristas: 72944\n"
     ]
    }
   ],
   "source": [
    "artistsGraph = nx.Graph()\n",
    "\n",
    "for index, row in subSpotifyArtists.iterrows():\n",
    "    node_id = row['spotify_id']\n",
    "    node_attributes = row.drop('spotify_id')\n",
    "    artistsGraph.add_node(node_id, **node_attributes)\n",
    "\n",
    "for index, row in subArtistsFeat.iterrows():\n",
    "    node_id_0 = row['id_0']\n",
    "    node_id_1 = row['id_1']\n",
    "    artistsGraph.add_edge(node_id_0, node_id_1)\n",
    "\n",
    "# Imprimimos la cantidad de nodos y aristas\n",
    "print(\"Cantidad de nodos:\", artistsGraph.number_of_nodes())\n",
    "print(\"Cantidad de aristas:\", artistsGraph.number_of_edges())"
   ]
  },
  {
   "cell_type": "code",
   "execution_count": 14,
   "metadata": {},
   "outputs": [],
   "source": [
    "# Pintar el grafo completo (si hay muchos nodos tarda bastante. Muchos = mas de 3000 nodos) \n",
    "if(numberOfNodes<=3000): #Si hay más de 3000 no se visualiza porque tarda demasiado\n",
    "    nx.draw(artistsGraph, node_size=1, alpha=0.9) \n",
    "\n",
    "    plt.show()"
   ]
  },
  {
   "cell_type": "markdown",
   "metadata": {},
   "source": [
    "<h4>Añadiendo la centralidad a la información de los nodos del grafo</h4>"
   ]
  },
  {
   "cell_type": "code",
   "execution_count": 15,
   "metadata": {},
   "outputs": [
    {
     "name": "stdout",
     "output_type": "stream",
     "text": [
      "               spotify_id  centrality\n",
      "0  4lDiJcOJ2GLCK6p9q5BgfK     0.00215\n",
      "1  652XIvIBNGg3C0KIGEJWit     0.00025\n",
      "2  3dXC1YPbnQPsfHPVkm1ipj     0.00025\n",
      "3  74terC9ol9zMo8rfzhSOiG     0.00005\n",
      "4  0FQMb3mVrAKlyU4H5mQOJh     0.00010\n",
      "5  71BhXa24Zf5zcikUb00l2N     0.00015\n",
      "6  3TG1RXLaEhHz5SIPMWahit     0.00005\n",
      "7  7MFvm8pwjLdmVBZddGNiQH     0.00015\n",
      "8  5I82NM6jN4Y267iHwVeNR9     0.00005\n",
      "9  5OkJ74jazRprW3kCTjfgOL     0.00020\n"
     ]
    }
   ],
   "source": [
    "# Calcula la centralidad de grado todos nodos\n",
    "degree_centrality = nx.degree_centrality(artistsGraph)\n",
    "\n",
    "# Crea una lista de tuplas con los valores de centralidad\n",
    "centrality_values = [(node, centrality) for node, centrality in degree_centrality.items()]\n",
    "\n",
    "# Crea un DataFrame con los valores de centralidad\n",
    "centrality_df = pandas.DataFrame(centrality_values, columns=['spotify_id', 'centrality'])\n",
    "\n",
    "# Une el DataFrame de centralidad con el DataFrame subSpotifyArtists\n",
    "subSpotifyArtists = subSpotifyArtists.merge(centrality_df, on='spotify_id')\n",
    "\n",
    "# Imprime el DataFrame con la nueva columna 'centrality'\n",
    "print(subSpotifyArtists[['spotify_id', 'centrality']].head(10))"
   ]
  },
  {
   "cell_type": "markdown",
   "metadata": {},
   "source": [
    "<h4>Añadiendo el coeficiente de clustering a la información de los nodos del grafo</h4>"
   ]
  },
  {
   "cell_type": "code",
   "execution_count": 16,
   "metadata": {},
   "outputs": [
    {
     "name": "stdout",
     "output_type": "stream",
     "text": [
      "               spotify_id  centrality  clustering\n",
      "0  4lDiJcOJ2GLCK6p9q5BgfK     0.00215    0.131783\n",
      "1  652XIvIBNGg3C0KIGEJWit     0.00025    0.200000\n",
      "2  3dXC1YPbnQPsfHPVkm1ipj     0.00025    0.500000\n",
      "3  74terC9ol9zMo8rfzhSOiG     0.00005    0.000000\n",
      "4  0FQMb3mVrAKlyU4H5mQOJh     0.00010    1.000000\n",
      "5  71BhXa24Zf5zcikUb00l2N     0.00015    1.000000\n",
      "6  3TG1RXLaEhHz5SIPMWahit     0.00005    0.000000\n",
      "7  7MFvm8pwjLdmVBZddGNiQH     0.00015    0.000000\n",
      "8  5I82NM6jN4Y267iHwVeNR9     0.00005    0.000000\n",
      "9  5OkJ74jazRprW3kCTjfgOL     0.00020    0.000000\n"
     ]
    }
   ],
   "source": [
    "# Calcula el coeficiente de clustering de los nodos\n",
    "clustering_coefficient = nx.clustering(artistsGraph)\n",
    "\n",
    "# Crea una lista de tuplas con los valores de coeficiente de clustering\n",
    "clustering_values = [(node, coefficient) for node, coefficient in clustering_coefficient.items()]\n",
    "\n",
    "# Crea un DataFrame con los valores de coeficiente de clustering\n",
    "clustering_df = pandas.DataFrame(clustering_values, columns=['spotify_id', 'clustering'])\n",
    "\n",
    "# Une el DataFrame de coeficiente de clustering con el DataFrame subSpotifyArtists\n",
    "subSpotifyArtists = subSpotifyArtists.merge(clustering_df, on='spotify_id')\n",
    "\n",
    "# Imprime el DataFrame con la nueva columna 'clustering'\n",
    "print(subSpotifyArtists[['spotify_id', 'centrality', 'clustering']].head(10))\n"
   ]
  },
  {
   "cell_type": "markdown",
   "metadata": {},
   "source": [
    "<h4>Añadiendo la comunidad a la información de los nodos del grafo</h4>"
   ]
  },
  {
   "cell_type": "code",
   "execution_count": 17,
   "metadata": {},
   "outputs": [
    {
     "name": "stdout",
     "output_type": "stream",
     "text": [
      "               spotify_id  centrality  clustering  community\n",
      "0  4lDiJcOJ2GLCK6p9q5BgfK     0.00215    0.131783          1\n",
      "1  652XIvIBNGg3C0KIGEJWit     0.00025    0.200000          1\n",
      "2  3dXC1YPbnQPsfHPVkm1ipj     0.00025    0.500000          2\n",
      "3  74terC9ol9zMo8rfzhSOiG     0.00005    0.000000          3\n",
      "4  0FQMb3mVrAKlyU4H5mQOJh     0.00010    1.000000          4\n",
      "5  71BhXa24Zf5zcikUb00l2N     0.00015    1.000000          5\n",
      "6  3TG1RXLaEhHz5SIPMWahit     0.00005    0.000000          2\n",
      "7  7MFvm8pwjLdmVBZddGNiQH     0.00015    0.000000          6\n",
      "8  5I82NM6jN4Y267iHwVeNR9     0.00005    0.000000          7\n",
      "9  5OkJ74jazRprW3kCTjfgOL     0.00020    0.000000          8\n"
     ]
    }
   ],
   "source": [
    "# Detecta comunidades en el grafo utilizando el algoritmo de Label Propagation\n",
    "communities = nx.algorithms.community.label_propagation.label_propagation_communities(artistsGraph)\n",
    "\n",
    "# Crea un diccionario para mapear cada nodo a su número de comunidad\n",
    "node_community_map = {}\n",
    "for i, community in enumerate(communities):\n",
    "    for node in community:\n",
    "        node_community_map[node] = i + 1\n",
    "\n",
    "# Agrega la columna 'community' al DataFrame subSpotifyArtists\n",
    "subSpotifyArtists['community'] = subSpotifyArtists['spotify_id'].map(node_community_map)\n",
    "\n",
    "# Imprime el DataFrame con la nueva columna 'community'\n",
    "print(subSpotifyArtists[['spotify_id', 'centrality', 'clustering', 'community']].head(10))\n"
   ]
  },
  {
   "cell_type": "markdown",
   "metadata": {},
   "source": [
    "<h4>Resultado final tras los cálculos</h4>"
   ]
  },
  {
   "cell_type": "code",
   "execution_count": 317,
   "metadata": {},
   "outputs": [
    {
     "data": {
      "text/html": [
       "<div>\n",
       "<style scoped>\n",
       "    .dataframe tbody tr th:only-of-type {\n",
       "        vertical-align: middle;\n",
       "    }\n",
       "\n",
       "    .dataframe tbody tr th {\n",
       "        vertical-align: top;\n",
       "    }\n",
       "\n",
       "    .dataframe thead th {\n",
       "        text-align: right;\n",
       "    }\n",
       "</style>\n",
       "<table border=\"1\" class=\"dataframe\">\n",
       "  <thead>\n",
       "    <tr style=\"text-align: right;\">\n",
       "      <th></th>\n",
       "      <th>spotify_id</th>\n",
       "      <th>name</th>\n",
       "      <th>followers</th>\n",
       "      <th>popularity</th>\n",
       "      <th>genres</th>\n",
       "      <th>chart_hits</th>\n",
       "      <th>centrality</th>\n",
       "      <th>clustering</th>\n",
       "      <th>community</th>\n",
       "    </tr>\n",
       "  </thead>\n",
       "  <tbody>\n",
       "    <tr>\n",
       "      <th>0</th>\n",
       "      <td>4lDiJcOJ2GLCK6p9q5BgfK</td>\n",
       "      <td>Kontra K</td>\n",
       "      <td>1999676.0</td>\n",
       "      <td>72</td>\n",
       "      <td>['christlicher rap', 'german hip hop']</td>\n",
       "      <td>['at (44)', 'de (111)', 'lu (22)', 'ch (31)', ...</td>\n",
       "      <td>0.00215</td>\n",
       "      <td>0.131783</td>\n",
       "      <td>1</td>\n",
       "    </tr>\n",
       "    <tr>\n",
       "      <th>1</th>\n",
       "      <td>652XIvIBNGg3C0KIGEJWit</td>\n",
       "      <td>Maxim</td>\n",
       "      <td>34596.0</td>\n",
       "      <td>36</td>\n",
       "      <td>[]</td>\n",
       "      <td>['de (1)']</td>\n",
       "      <td>0.00025</td>\n",
       "      <td>0.200000</td>\n",
       "      <td>1</td>\n",
       "    </tr>\n",
       "    <tr>\n",
       "      <th>2</th>\n",
       "      <td>3dXC1YPbnQPsfHPVkm1ipj</td>\n",
       "      <td>Christopher Martin</td>\n",
       "      <td>249233.0</td>\n",
       "      <td>52</td>\n",
       "      <td>['dancehall', 'lovers rock', 'modern reggae', ...</td>\n",
       "      <td>['at (1)', 'de (1)']</td>\n",
       "      <td>0.00025</td>\n",
       "      <td>0.500000</td>\n",
       "      <td>2</td>\n",
       "    </tr>\n",
       "  </tbody>\n",
       "</table>\n",
       "</div>"
      ],
      "text/plain": [
       "               spotify_id                name  followers  popularity  \\\n",
       "0  4lDiJcOJ2GLCK6p9q5BgfK            Kontra K  1999676.0          72   \n",
       "1  652XIvIBNGg3C0KIGEJWit               Maxim    34596.0          36   \n",
       "2  3dXC1YPbnQPsfHPVkm1ipj  Christopher Martin   249233.0          52   \n",
       "\n",
       "                                              genres  \\\n",
       "0             ['christlicher rap', 'german hip hop']   \n",
       "1                                                 []   \n",
       "2  ['dancehall', 'lovers rock', 'modern reggae', ...   \n",
       "\n",
       "                                          chart_hits  centrality  clustering  \\\n",
       "0  ['at (44)', 'de (111)', 'lu (22)', 'ch (31)', ...     0.00215    0.131783   \n",
       "1                                         ['de (1)']     0.00025    0.200000   \n",
       "2                               ['at (1)', 'de (1)']     0.00025    0.500000   \n",
       "\n",
       "   community  \n",
       "0          1  \n",
       "1          1  \n",
       "2          2  "
      ]
     },
     "execution_count": 317,
     "metadata": {},
     "output_type": "execute_result"
    }
   ],
   "source": [
    "subSpotifyArtists.head(3)"
   ]
  },
  {
   "cell_type": "markdown",
   "metadata": {},
   "source": [
    "<h2>knn"
   ]
  },
  {
   "cell_type": "code",
   "execution_count": 19,
   "metadata": {},
   "outputs": [],
   "source": [
    "from sklearn import neighbors"
   ]
  },
  {
   "cell_type": "code",
   "execution_count": 361,
   "metadata": {},
   "outputs": [],
   "source": [
    "allAttributes = subSpotifyArtists\n",
    "# selección de las columnas de atributos, drop quita la columna que queremos (una porque axis=1)\n",
    "objPopularity = subSpotifyArtists['popularity']  # selección de la columna objetivo\n"
   ]
  },
  {
   "cell_type": "code",
   "execution_count": 362,
   "metadata": {},
   "outputs": [
    {
     "data": {
      "text/html": [
       "<div>\n",
       "<style scoped>\n",
       "    .dataframe tbody tr th:only-of-type {\n",
       "        vertical-align: middle;\n",
       "    }\n",
       "\n",
       "    .dataframe tbody tr th {\n",
       "        vertical-align: top;\n",
       "    }\n",
       "\n",
       "    .dataframe thead th {\n",
       "        text-align: right;\n",
       "    }\n",
       "</style>\n",
       "<table border=\"1\" class=\"dataframe\">\n",
       "  <thead>\n",
       "    <tr style=\"text-align: right;\">\n",
       "      <th></th>\n",
       "      <th>spotify_id</th>\n",
       "      <th>name</th>\n",
       "      <th>followers</th>\n",
       "      <th>popularity</th>\n",
       "      <th>chart_hits</th>\n",
       "      <th>centrality</th>\n",
       "      <th>clustering</th>\n",
       "      <th>community</th>\n",
       "      <th></th>\n",
       "      <th>acoustic pop</th>\n",
       "      <th>...</th>\n",
       "      <th>vocaloid</th>\n",
       "      <th>volkspop</th>\n",
       "      <th>waiata maori</th>\n",
       "      <th>waiata mo tamariki</th>\n",
       "      <th>weirdcore</th>\n",
       "      <th>yemeni pop</th>\n",
       "      <th>yugoslav rock</th>\n",
       "      <th>zamba</th>\n",
       "      <th>zhenskiy rep</th>\n",
       "      <th>zxc</th>\n",
       "    </tr>\n",
       "  </thead>\n",
       "  <tbody>\n",
       "    <tr>\n",
       "      <th>0</th>\n",
       "      <td>4lDiJcOJ2GLCK6p9q5BgfK</td>\n",
       "      <td>Kontra K</td>\n",
       "      <td>1999676.0</td>\n",
       "      <td>72</td>\n",
       "      <td>['at (44)', 'de (111)', 'lu (22)', 'ch (31)', ...</td>\n",
       "      <td>0.00215</td>\n",
       "      <td>0.131783</td>\n",
       "      <td>1</td>\n",
       "      <td>0</td>\n",
       "      <td>0</td>\n",
       "      <td>...</td>\n",
       "      <td>0</td>\n",
       "      <td>0</td>\n",
       "      <td>0</td>\n",
       "      <td>0</td>\n",
       "      <td>0</td>\n",
       "      <td>0</td>\n",
       "      <td>0</td>\n",
       "      <td>0</td>\n",
       "      <td>0</td>\n",
       "      <td>0</td>\n",
       "    </tr>\n",
       "  </tbody>\n",
       "</table>\n",
       "<p>1 rows × 3774 columns</p>\n",
       "</div>"
      ],
      "text/plain": [
       "               spotify_id      name  followers  popularity  \\\n",
       "0  4lDiJcOJ2GLCK6p9q5BgfK  Kontra K  1999676.0          72   \n",
       "\n",
       "                                          chart_hits  centrality  clustering  \\\n",
       "0  ['at (44)', 'de (111)', 'lu (22)', 'ch (31)', ...     0.00215    0.131783   \n",
       "\n",
       "   community      acoustic pop  ...  vocaloid  volkspop  waiata maori  \\\n",
       "0          1  0              0  ...         0         0             0   \n",
       "\n",
       "   waiata mo tamariki  weirdcore  yemeni pop  yugoslav rock  zamba  \\\n",
       "0                   0          0           0              0      0   \n",
       "\n",
       "   zhenskiy rep  zxc  \n",
       "0             0    0  \n",
       "\n",
       "[1 rows x 3774 columns]"
      ]
     },
     "execution_count": 362,
     "metadata": {},
     "output_type": "execute_result"
    }
   ],
   "source": [
    "import pandas as pd\n",
    "from sklearn.preprocessing import MultiLabelBinarizer\n",
    "mlb = MultiLabelBinarizer()\n",
    "\n",
    "genres_list = [genres.replace('\"','').replace('[','').replace(']','').replace('\\'','').strip().split(',') for genres in allAttributes['genres']]\n",
    "####### Convertir la lista de listas en variables binarias\n",
    "genres_encoded = mlb.fit_transform(genres_list)\n",
    "\n",
    "####### Crear un nuevo DataFrame con las variables binarias\n",
    "genres_df = pd.DataFrame(genres_encoded, columns=mlb.classes_)\n",
    "\n",
    "####### Concatenar el nuevo DataFrame con el DataFrame original\n",
    "allAttributes_discretized = pd.concat([allAttributes, genres_df], axis=1).drop(\"genres\",axis=1).iloc[:,:5000]\n",
    "\n",
    "####### Verificar el resultado\n",
    "allAttributes_discretized.head(1)"
   ]
  },
  {
   "cell_type": "code",
   "execution_count": 371,
   "metadata": {},
   "outputs": [
    {
     "name": "stderr",
     "output_type": "stream",
     "text": [
      "C:\\Users\\manol\\AppData\\Local\\Temp\\ipykernel_15536\\2883002132.py:9: SettingWithCopyWarning: \n",
      "A value is trying to be set on a copy of a slice from a DataFrame.\n",
      "Try using .loc[row_indexer,col_indexer] = value instead\n",
      "\n",
      "See the caveats in the documentation: https://pandas.pydata.org/pandas-docs/stable/user_guide/indexing.html#returning-a-view-versus-a-copy\n",
      "  allAttributes_discretized['chart_hits'] = country_counts\n"
     ]
    },
    {
     "data": {
      "text/html": [
       "<div>\n",
       "<style scoped>\n",
       "    .dataframe tbody tr th:only-of-type {\n",
       "        vertical-align: middle;\n",
       "    }\n",
       "\n",
       "    .dataframe tbody tr th {\n",
       "        vertical-align: top;\n",
       "    }\n",
       "\n",
       "    .dataframe thead th {\n",
       "        text-align: right;\n",
       "    }\n",
       "</style>\n",
       "<table border=\"1\" class=\"dataframe\">\n",
       "  <thead>\n",
       "    <tr style=\"text-align: right;\">\n",
       "      <th></th>\n",
       "      <th>followers</th>\n",
       "      <th>centrality</th>\n",
       "      <th>community</th>\n",
       "      <th>chart_hits</th>\n",
       "    </tr>\n",
       "  </thead>\n",
       "  <tbody>\n",
       "    <tr>\n",
       "      <th>0</th>\n",
       "      <td>1999676.0</td>\n",
       "      <td>0.00215</td>\n",
       "      <td>1</td>\n",
       "      <td>1.0</td>\n",
       "    </tr>\n",
       "    <tr>\n",
       "      <th>1</th>\n",
       "      <td>34596.0</td>\n",
       "      <td>0.00025</td>\n",
       "      <td>1</td>\n",
       "      <td>1.0</td>\n",
       "    </tr>\n",
       "    <tr>\n",
       "      <th>2</th>\n",
       "      <td>249233.0</td>\n",
       "      <td>0.00025</td>\n",
       "      <td>2</td>\n",
       "      <td>1.0</td>\n",
       "    </tr>\n",
       "    <tr>\n",
       "      <th>3</th>\n",
       "      <td>21193.0</td>\n",
       "      <td>0.00005</td>\n",
       "      <td>3</td>\n",
       "      <td>1.0</td>\n",
       "    </tr>\n",
       "    <tr>\n",
       "      <th>4</th>\n",
       "      <td>26677.0</td>\n",
       "      <td>0.00010</td>\n",
       "      <td>4</td>\n",
       "      <td>1.0</td>\n",
       "    </tr>\n",
       "    <tr>\n",
       "      <th>5</th>\n",
       "      <td>11312.0</td>\n",
       "      <td>0.00015</td>\n",
       "      <td>5</td>\n",
       "      <td>1.0</td>\n",
       "    </tr>\n",
       "    <tr>\n",
       "      <th>6</th>\n",
       "      <td>36252.0</td>\n",
       "      <td>0.00005</td>\n",
       "      <td>2</td>\n",
       "      <td>1.0</td>\n",
       "    </tr>\n",
       "    <tr>\n",
       "      <th>7</th>\n",
       "      <td>14619.0</td>\n",
       "      <td>0.00015</td>\n",
       "      <td>6</td>\n",
       "      <td>1.0</td>\n",
       "    </tr>\n",
       "    <tr>\n",
       "      <th>8</th>\n",
       "      <td>188.0</td>\n",
       "      <td>0.00005</td>\n",
       "      <td>7</td>\n",
       "      <td>1.0</td>\n",
       "    </tr>\n",
       "    <tr>\n",
       "      <th>9</th>\n",
       "      <td>7246.0</td>\n",
       "      <td>0.00020</td>\n",
       "      <td>8</td>\n",
       "      <td>1.0</td>\n",
       "    </tr>\n",
       "    <tr>\n",
       "      <th>10</th>\n",
       "      <td>798.0</td>\n",
       "      <td>0.00000</td>\n",
       "      <td>9</td>\n",
       "      <td>1.0</td>\n",
       "    </tr>\n",
       "    <tr>\n",
       "      <th>11</th>\n",
       "      <td>327256.0</td>\n",
       "      <td>0.00025</td>\n",
       "      <td>10</td>\n",
       "      <td>1.0</td>\n",
       "    </tr>\n",
       "    <tr>\n",
       "      <th>12</th>\n",
       "      <td>11174.0</td>\n",
       "      <td>0.00000</td>\n",
       "      <td>11</td>\n",
       "      <td>1.0</td>\n",
       "    </tr>\n",
       "    <tr>\n",
       "      <th>13</th>\n",
       "      <td>6408.0</td>\n",
       "      <td>0.00025</td>\n",
       "      <td>12</td>\n",
       "      <td>1.0</td>\n",
       "    </tr>\n",
       "    <tr>\n",
       "      <th>14</th>\n",
       "      <td>40344.0</td>\n",
       "      <td>0.00010</td>\n",
       "      <td>2</td>\n",
       "      <td>1.0</td>\n",
       "    </tr>\n",
       "    <tr>\n",
       "      <th>15</th>\n",
       "      <td>17.0</td>\n",
       "      <td>0.00000</td>\n",
       "      <td>13</td>\n",
       "      <td>1.0</td>\n",
       "    </tr>\n",
       "    <tr>\n",
       "      <th>16</th>\n",
       "      <td>3207.0</td>\n",
       "      <td>0.00010</td>\n",
       "      <td>14</td>\n",
       "      <td>1.0</td>\n",
       "    </tr>\n",
       "    <tr>\n",
       "      <th>17</th>\n",
       "      <td>517.0</td>\n",
       "      <td>0.00000</td>\n",
       "      <td>15</td>\n",
       "      <td>1.0</td>\n",
       "    </tr>\n",
       "    <tr>\n",
       "      <th>18</th>\n",
       "      <td>6752.0</td>\n",
       "      <td>0.00025</td>\n",
       "      <td>16</td>\n",
       "      <td>1.0</td>\n",
       "    </tr>\n",
       "    <tr>\n",
       "      <th>19</th>\n",
       "      <td>1026598.0</td>\n",
       "      <td>0.00185</td>\n",
       "      <td>2</td>\n",
       "      <td>1.0</td>\n",
       "    </tr>\n",
       "  </tbody>\n",
       "</table>\n",
       "</div>"
      ],
      "text/plain": [
       "    followers  centrality  community  chart_hits\n",
       "0   1999676.0     0.00215          1         1.0\n",
       "1     34596.0     0.00025          1         1.0\n",
       "2    249233.0     0.00025          2         1.0\n",
       "3     21193.0     0.00005          3         1.0\n",
       "4     26677.0     0.00010          4         1.0\n",
       "5     11312.0     0.00015          5         1.0\n",
       "6     36252.0     0.00005          2         1.0\n",
       "7     14619.0     0.00015          6         1.0\n",
       "8       188.0     0.00005          7         1.0\n",
       "9      7246.0     0.00020          8         1.0\n",
       "10      798.0     0.00000          9         1.0\n",
       "11   327256.0     0.00025         10         1.0\n",
       "12    11174.0     0.00000         11         1.0\n",
       "13     6408.0     0.00025         12         1.0\n",
       "14    40344.0     0.00010          2         1.0\n",
       "15       17.0     0.00000         13         1.0\n",
       "16     3207.0     0.00010         14         1.0\n",
       "17      517.0     0.00000         15         1.0\n",
       "18     6752.0     0.00025         16         1.0\n",
       "19  1026598.0     0.00185          2         1.0"
      ]
     },
     "execution_count": 371,
     "metadata": {},
     "output_type": "execute_result"
    }
   ],
   "source": [
    "#allAttributes_discretized = allAttributes.drop('genres',axis=1)\n",
    "allAttributes_discretized = allAttributes[['followers','centrality','community']]\n",
    "def count_countries(chart_hits):\n",
    "    if(isinstance(chart_hits, str)):\n",
    "#         print(len(chart_hits.split(',')))\n",
    "        return len(chart_hits.split(','))\n",
    "\n",
    "country_counts = allAttributes['spotif'].map(count_countries)\n",
    "allAttributes_discretized['chart_hits'] = country_counts\n",
    "df.head(20)"
   ]
  },
  {
   "cell_type": "markdown",
   "metadata": {},
   "source": [
    "<h3> dividir en conjunto de entrenamiento y de pruebas"
   ]
  },
  {
   "cell_type": "code",
   "execution_count": 310,
   "metadata": {},
   "outputs": [],
   "source": [
    "from sklearn import model_selection\n",
    "(atributos_entrenamiento, atributos_prueba,\n",
    " objetivo_entrenamiento, objetivo_prueba) = model_selection.train_test_split(\n",
    "        # Conjuntos de datos a dividir, usando los mismos índices para ambos\n",
    "        allAttributes_discretized, objPopularity,\n",
    "        # Valor de la semilla aleatoria, para que el muestreo sea reproducible,\n",
    "        # a pesar de ser aleatorio\n",
    "        random_state=34295,\n",
    "        # Tamaño del conjunto de prueba\n",
    "        test_size=.10)"
   ]
  },
  {
   "cell_type": "code",
   "execution_count": null,
   "metadata": {},
   "outputs": [],
   "source": []
  },
  {
   "cell_type": "markdown",
   "metadata": {},
   "source": [
    "Como los generos son unos arrays necesitamos discretizarlo añadiendo \n",
    "nuevas columnas. Para esto nos ayudamos de MultiLabelBinarizer una \n",
    "parte del preprocessing"
   ]
  },
  {
   "cell_type": "code",
   "execution_count": 311,
   "metadata": {},
   "outputs": [
    {
     "data": {
      "text/html": [
       "<style>#sk-container-id-46 {color: black;background-color: white;}#sk-container-id-46 pre{padding: 0;}#sk-container-id-46 div.sk-toggleable {background-color: white;}#sk-container-id-46 label.sk-toggleable__label {cursor: pointer;display: block;width: 100%;margin-bottom: 0;padding: 0.3em;box-sizing: border-box;text-align: center;}#sk-container-id-46 label.sk-toggleable__label-arrow:before {content: \"▸\";float: left;margin-right: 0.25em;color: #696969;}#sk-container-id-46 label.sk-toggleable__label-arrow:hover:before {color: black;}#sk-container-id-46 div.sk-estimator:hover label.sk-toggleable__label-arrow:before {color: black;}#sk-container-id-46 div.sk-toggleable__content {max-height: 0;max-width: 0;overflow: hidden;text-align: left;background-color: #f0f8ff;}#sk-container-id-46 div.sk-toggleable__content pre {margin: 0.2em;color: black;border-radius: 0.25em;background-color: #f0f8ff;}#sk-container-id-46 input.sk-toggleable__control:checked~div.sk-toggleable__content {max-height: 200px;max-width: 100%;overflow: auto;}#sk-container-id-46 input.sk-toggleable__control:checked~label.sk-toggleable__label-arrow:before {content: \"▾\";}#sk-container-id-46 div.sk-estimator input.sk-toggleable__control:checked~label.sk-toggleable__label {background-color: #d4ebff;}#sk-container-id-46 div.sk-label input.sk-toggleable__control:checked~label.sk-toggleable__label {background-color: #d4ebff;}#sk-container-id-46 input.sk-hidden--visually {border: 0;clip: rect(1px 1px 1px 1px);clip: rect(1px, 1px, 1px, 1px);height: 1px;margin: -1px;overflow: hidden;padding: 0;position: absolute;width: 1px;}#sk-container-id-46 div.sk-estimator {font-family: monospace;background-color: #f0f8ff;border: 1px dotted black;border-radius: 0.25em;box-sizing: border-box;margin-bottom: 0.5em;}#sk-container-id-46 div.sk-estimator:hover {background-color: #d4ebff;}#sk-container-id-46 div.sk-parallel-item::after {content: \"\";width: 100%;border-bottom: 1px solid gray;flex-grow: 1;}#sk-container-id-46 div.sk-label:hover label.sk-toggleable__label {background-color: #d4ebff;}#sk-container-id-46 div.sk-serial::before {content: \"\";position: absolute;border-left: 1px solid gray;box-sizing: border-box;top: 0;bottom: 0;left: 50%;z-index: 0;}#sk-container-id-46 div.sk-serial {display: flex;flex-direction: column;align-items: center;background-color: white;padding-right: 0.2em;padding-left: 0.2em;position: relative;}#sk-container-id-46 div.sk-item {position: relative;z-index: 1;}#sk-container-id-46 div.sk-parallel {display: flex;align-items: stretch;justify-content: center;background-color: white;position: relative;}#sk-container-id-46 div.sk-item::before, #sk-container-id-46 div.sk-parallel-item::before {content: \"\";position: absolute;border-left: 1px solid gray;box-sizing: border-box;top: 0;bottom: 0;left: 50%;z-index: -1;}#sk-container-id-46 div.sk-parallel-item {display: flex;flex-direction: column;z-index: 1;position: relative;background-color: white;}#sk-container-id-46 div.sk-parallel-item:first-child::after {align-self: flex-end;width: 50%;}#sk-container-id-46 div.sk-parallel-item:last-child::after {align-self: flex-start;width: 50%;}#sk-container-id-46 div.sk-parallel-item:only-child::after {width: 0;}#sk-container-id-46 div.sk-dashed-wrapped {border: 1px dashed gray;margin: 0 0.4em 0.5em 0.4em;box-sizing: border-box;padding-bottom: 0.4em;background-color: white;}#sk-container-id-46 div.sk-label label {font-family: monospace;font-weight: bold;display: inline-block;line-height: 1.2em;}#sk-container-id-46 div.sk-label-container {text-align: center;}#sk-container-id-46 div.sk-container {/* jupyter's `normalize.less` sets `[hidden] { display: none; }` but bootstrap.min.css set `[hidden] { display: none !important; }` so we also need the `!important` here to be able to override the default hidden behavior on the sphinx rendered scikit-learn.org. See: https://github.com/scikit-learn/scikit-learn/issues/21755 */display: inline-block !important;position: relative;}#sk-container-id-46 div.sk-text-repr-fallback {display: none;}</style><div id=\"sk-container-id-46\" class=\"sk-top-container\"><div class=\"sk-text-repr-fallback\"><pre>KNeighborsClassifier(metric=&#x27;manhattan&#x27;, n_neighbors=150)</pre><b>In a Jupyter environment, please rerun this cell to show the HTML representation or trust the notebook. <br />On GitHub, the HTML representation is unable to render, please try loading this page with nbviewer.org.</b></div><div class=\"sk-container\" hidden><div class=\"sk-item\"><div class=\"sk-estimator sk-toggleable\"><input class=\"sk-toggleable__control sk-hidden--visually\" id=\"sk-estimator-id-46\" type=\"checkbox\" checked><label for=\"sk-estimator-id-46\" class=\"sk-toggleable__label sk-toggleable__label-arrow\">KNeighborsClassifier</label><div class=\"sk-toggleable__content\"><pre>KNeighborsClassifier(metric=&#x27;manhattan&#x27;, n_neighbors=150)</pre></div></div></div></div></div>"
      ],
      "text/plain": [
       "KNeighborsClassifier(metric='manhattan', n_neighbors=150)"
      ]
     },
     "execution_count": 311,
     "metadata": {},
     "output_type": "execute_result"
    }
   ],
   "source": [
    "clasif_kNN = neighbors.KNeighborsClassifier(\n",
    "    n_neighbors=150,  # Número de vecinos a considerar\n",
    " #   metric='hamming'  # Distancia de Hamming como métrica de cercanía:\n",
    " #   metric='euclidean'  # Distancia de Hamming como métrica de cercanía:\n",
    "    metric='manhattan'  # Distancia de Hamming como métrica de cercanía:\n",
    " #   metric='cosine'  # Distancia de Hamming como métrica de cercanía:\n",
    "#    metric='minkowski'  # Distancia de Hamming como métrica de cercanía:\n",
    ")\n",
    "clasif_kNN.fit(atributos_entrenamiento, objetivo_entrenamiento)"
   ]
  },
  {
   "cell_type": "code",
   "execution_count": 312,
   "metadata": {},
   "outputs": [],
   "source": [
    "predicciones = clasif_kNN.predict(atributos_prueba)"
   ]
  },
  {
   "cell_type": "code",
   "execution_count": 313,
   "metadata": {},
   "outputs": [
    {
     "name": "stdout",
     "output_type": "stream",
     "text": [
      "[56 51 50 ... 56 41 51]\n"
     ]
    }
   ],
   "source": [
    "print(predicciones)"
   ]
  },
  {
   "cell_type": "code",
   "execution_count": 314,
   "metadata": {},
   "outputs": [
    {
     "data": {
      "text/plain": [
       "0.0905"
      ]
     },
     "execution_count": 314,
     "metadata": {},
     "output_type": "execute_result"
    }
   ],
   "source": [
    "clasif_kNN.score(atributos_prueba, objetivo_prueba)"
   ]
  },
  {
   "cell_type": "code",
   "execution_count": 315,
   "metadata": {},
   "outputs": [
    {
     "name": "stdout",
     "output_type": "stream",
     "text": [
      "0.476\n"
     ]
    }
   ],
   "source": [
    "# Calcular la diferencia absoluta entre las predicciones y los valores objetivo\n",
    "diferencia_absoluta = numpy.abs(predicciones - objetivo_prueba)\n",
    "\n",
    "# Verificar si la diferencia absoluta está dentro del intervalo de ±5\n",
    "resultado = numpy.mean(diferencia_absoluta <= 5)\n",
    "print(resultado)"
   ]
  },
  {
   "cell_type": "code",
   "execution_count": 280,
   "metadata": {},
   "outputs": [
    {
     "ename": "SyntaxError",
     "evalue": "invalid syntax (3556905916.py, line 1)",
     "output_type": "error",
     "traceback": [
      "\u001b[1;36m  Cell \u001b[1;32mIn[280], line 1\u001b[1;36m\u001b[0m\n\u001b[1;33m    explicar diferencias distancia euclidea y hamming\u001b[0m\n\u001b[1;37m             ^\u001b[0m\n\u001b[1;31mSyntaxError\u001b[0m\u001b[1;31m:\u001b[0m invalid syntax\n"
     ]
    }
   ],
   "source": [
    "explicar diferencias distancia euclidea y hamming"
   ]
  },
  {
   "cell_type": "code",
   "execution_count": null,
   "metadata": {},
   "outputs": [],
   "source": []
  },
  {
   "cell_type": "code",
   "execution_count": null,
   "metadata": {},
   "outputs": [],
   "source": []
  }
 ],
 "metadata": {
  "kernelspec": {
   "display_name": "Python 3 (ipykernel)",
   "language": "python",
   "name": "python3"
  },
  "language_info": {
   "codemirror_mode": {
    "name": "ipython",
    "version": 3
   },
   "file_extension": ".py",
   "mimetype": "text/x-python",
   "name": "python",
   "nbconvert_exporter": "python",
   "pygments_lexer": "ipython3",
   "version": "3.10.9"
  }
 },
 "nbformat": 4,
 "nbformat_minor": 2
}
