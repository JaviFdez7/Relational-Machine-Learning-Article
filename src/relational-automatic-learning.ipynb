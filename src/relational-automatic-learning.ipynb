{
 "cells": [
  {
   "cell_type": "markdown",
   "metadata": {},
   "source": [
    "<h1 style=\"font-size: 50px;\">Relational Automatic Learning</h1>\n",
    "\n",
    "<div style=\"width: 100%; height: 1px; background-color: black; margin-top: 20px; margin-bottom: 20px\"></div>"
   ]
  },
  {
   "cell_type": "markdown",
   "metadata": {},
   "source": [
    "<h3>Importando librerías</h3>"
   ]
  },
  {
   "cell_type": "code",
   "execution_count": 1,
   "metadata": {},
   "outputs": [
    {
     "name": "stdout",
     "output_type": "stream",
     "text": [
      "Once deleted, variables cannot be recovered. Proceed (y/[n])? y\n"
     ]
    }
   ],
   "source": [
    "#Abrirlo desde jupyter (no desde sage)\n",
    "%reset\n",
    "#!pip install networkx\n",
    "#!pip install scikit-learn\n",
    "\n",
    "import networkx as nx\n",
    "import sklearn as sk\n",
    "\n",
    "import pandas\n",
    "import numpy\n",
    "import matplotlib.pyplot as plt\n"
   ]
  },
  {
   "cell_type": "markdown",
   "metadata": {},
   "source": [
    "<h3>Variables de configuración</h3>"
   ]
  },
  {
   "cell_type": "code",
   "execution_count": 2,
   "metadata": {},
   "outputs": [],
   "source": [
    "numberOfNodes = 20000 #Recomendado 20000 para reducir tiempos de ejecución"
   ]
  },
  {
   "cell_type": "markdown",
   "metadata": {},
   "source": [
    "<h3>Lectura de nodos (Artists)</h3>"
   ]
  },
  {
   "cell_type": "code",
   "execution_count": 3,
   "metadata": {},
   "outputs": [],
   "source": [
    "spotifyArtists = pandas.read_csv('../data/nodes.csv', header=1, low_memory=False,\n",
    "                          names=['spotify_id','name','followers','popularity','genres','chart_hits'])"
   ]
  },
  {
   "cell_type": "code",
   "execution_count": 4,
   "metadata": {},
   "outputs": [
    {
     "name": "stdout",
     "output_type": "stream",
     "text": [
      "(156421, 6)\n"
     ]
    }
   ],
   "source": [
    "print(spotifyArtists.shape)"
   ]
  },
  {
   "cell_type": "code",
   "execution_count": 5,
   "metadata": {
    "scrolled": true
   },
   "outputs": [
    {
     "data": {
      "text/html": [
       "<div>\n",
       "<style scoped>\n",
       "    .dataframe tbody tr th:only-of-type {\n",
       "        vertical-align: middle;\n",
       "    }\n",
       "\n",
       "    .dataframe tbody tr th {\n",
       "        vertical-align: top;\n",
       "    }\n",
       "\n",
       "    .dataframe thead th {\n",
       "        text-align: right;\n",
       "    }\n",
       "</style>\n",
       "<table border=\"1\" class=\"dataframe\">\n",
       "  <thead>\n",
       "    <tr style=\"text-align: right;\">\n",
       "      <th></th>\n",
       "      <th>spotify_id</th>\n",
       "      <th>name</th>\n",
       "      <th>followers</th>\n",
       "      <th>popularity</th>\n",
       "      <th>genres</th>\n",
       "      <th>chart_hits</th>\n",
       "    </tr>\n",
       "  </thead>\n",
       "  <tbody>\n",
       "    <tr>\n",
       "      <th>0</th>\n",
       "      <td>4lDiJcOJ2GLCK6p9q5BgfK</td>\n",
       "      <td>Kontra K</td>\n",
       "      <td>1999676.0</td>\n",
       "      <td>72</td>\n",
       "      <td>['christlicher rap', 'german hip hop']</td>\n",
       "      <td>['at (44)', 'de (111)', 'lu (22)', 'ch (31)', ...</td>\n",
       "    </tr>\n",
       "    <tr>\n",
       "      <th>1</th>\n",
       "      <td>652XIvIBNGg3C0KIGEJWit</td>\n",
       "      <td>Maxim</td>\n",
       "      <td>34596.0</td>\n",
       "      <td>36</td>\n",
       "      <td>[]</td>\n",
       "      <td>['de (1)']</td>\n",
       "    </tr>\n",
       "    <tr>\n",
       "      <th>2</th>\n",
       "      <td>3dXC1YPbnQPsfHPVkm1ipj</td>\n",
       "      <td>Christopher Martin</td>\n",
       "      <td>249233.0</td>\n",
       "      <td>52</td>\n",
       "      <td>['dancehall', 'lovers rock', 'modern reggae', ...</td>\n",
       "      <td>['at (1)', 'de (1)']</td>\n",
       "    </tr>\n",
       "    <tr>\n",
       "      <th>3</th>\n",
       "      <td>74terC9ol9zMo8rfzhSOiG</td>\n",
       "      <td>Jakob Hellman</td>\n",
       "      <td>21193.0</td>\n",
       "      <td>39</td>\n",
       "      <td>['classic swedish pop', 'norrbotten indie', 's...</td>\n",
       "      <td>['se (6)']</td>\n",
       "    </tr>\n",
       "    <tr>\n",
       "      <th>4</th>\n",
       "      <td>0FQMb3mVrAKlyU4H5mQOJh</td>\n",
       "      <td>Madh</td>\n",
       "      <td>26677.0</td>\n",
       "      <td>19</td>\n",
       "      <td>[]</td>\n",
       "      <td>['it (2)']</td>\n",
       "    </tr>\n",
       "  </tbody>\n",
       "</table>\n",
       "</div>"
      ],
      "text/plain": [
       "               spotify_id                name  followers  popularity  \\\n",
       "0  4lDiJcOJ2GLCK6p9q5BgfK            Kontra K  1999676.0          72   \n",
       "1  652XIvIBNGg3C0KIGEJWit               Maxim    34596.0          36   \n",
       "2  3dXC1YPbnQPsfHPVkm1ipj  Christopher Martin   249233.0          52   \n",
       "3  74terC9ol9zMo8rfzhSOiG       Jakob Hellman    21193.0          39   \n",
       "4  0FQMb3mVrAKlyU4H5mQOJh                Madh    26677.0          19   \n",
       "\n",
       "                                              genres  \\\n",
       "0             ['christlicher rap', 'german hip hop']   \n",
       "1                                                 []   \n",
       "2  ['dancehall', 'lovers rock', 'modern reggae', ...   \n",
       "3  ['classic swedish pop', 'norrbotten indie', 's...   \n",
       "4                                                 []   \n",
       "\n",
       "                                          chart_hits  \n",
       "0  ['at (44)', 'de (111)', 'lu (22)', 'ch (31)', ...  \n",
       "1                                         ['de (1)']  \n",
       "2                               ['at (1)', 'de (1)']  \n",
       "3                                         ['se (6)']  \n",
       "4                                         ['it (2)']  "
      ]
     },
     "execution_count": 5,
     "metadata": {},
     "output_type": "execute_result"
    }
   ],
   "source": [
    "# 5 primeras filas\n",
    "spotifyArtists.head(5)"
   ]
  },
  {
   "cell_type": "markdown",
   "metadata": {},
   "source": [
    "<h3>Lectura de aristas (Artists feats)</h3>"
   ]
  },
  {
   "cell_type": "code",
   "execution_count": 6,
   "metadata": {},
   "outputs": [],
   "source": [
    "artistsFeats = pandas.read_csv('../data/edges.csv', header=1, low_memory=False,\n",
    "                          names=['id_0','id_1'])"
   ]
  },
  {
   "cell_type": "code",
   "execution_count": 7,
   "metadata": {},
   "outputs": [
    {
     "name": "stdout",
     "output_type": "stream",
     "text": [
      "(300385, 2)\n"
     ]
    }
   ],
   "source": [
    "print(artistsFeats.shape)"
   ]
  },
  {
   "cell_type": "code",
   "execution_count": 8,
   "metadata": {},
   "outputs": [
    {
     "data": {
      "text/html": [
       "<div>\n",
       "<style scoped>\n",
       "    .dataframe tbody tr th:only-of-type {\n",
       "        vertical-align: middle;\n",
       "    }\n",
       "\n",
       "    .dataframe tbody tr th {\n",
       "        vertical-align: top;\n",
       "    }\n",
       "\n",
       "    .dataframe thead th {\n",
       "        text-align: right;\n",
       "    }\n",
       "</style>\n",
       "<table border=\"1\" class=\"dataframe\">\n",
       "  <thead>\n",
       "    <tr style=\"text-align: right;\">\n",
       "      <th></th>\n",
       "      <th>id_0</th>\n",
       "      <th>id_1</th>\n",
       "    </tr>\n",
       "  </thead>\n",
       "  <tbody>\n",
       "    <tr>\n",
       "      <th>0</th>\n",
       "      <td>0hk4xVujcyOr6USD95wcWb</td>\n",
       "      <td>7Do8se3ZoaVqUt3woqqSrD</td>\n",
       "    </tr>\n",
       "    <tr>\n",
       "      <th>1</th>\n",
       "      <td>38jpuy3yt3QIxQ8Fn1HTeJ</td>\n",
       "      <td>4csQIMQm6vI2A2SCVDuM2z</td>\n",
       "    </tr>\n",
       "    <tr>\n",
       "      <th>2</th>\n",
       "      <td>6PvcxssrQ0QaJVaBWHD07l</td>\n",
       "      <td>6UCQYrcJ6wab6gnQ89OJFh</td>\n",
       "    </tr>\n",
       "    <tr>\n",
       "      <th>3</th>\n",
       "      <td>2R1QrQqWuw3IjoP5dXRFjt</td>\n",
       "      <td>4mk1ScvOUkuQzzCZpT6bc0</td>\n",
       "    </tr>\n",
       "    <tr>\n",
       "      <th>4</th>\n",
       "      <td>0k70gnDBLPirCltbTzoxuM</td>\n",
       "      <td>5FK3qokBQYxr7ZLkr8GVFn</td>\n",
       "    </tr>\n",
       "  </tbody>\n",
       "</table>\n",
       "</div>"
      ],
      "text/plain": [
       "                     id_0                    id_1\n",
       "0  0hk4xVujcyOr6USD95wcWb  7Do8se3ZoaVqUt3woqqSrD\n",
       "1  38jpuy3yt3QIxQ8Fn1HTeJ  4csQIMQm6vI2A2SCVDuM2z\n",
       "2  6PvcxssrQ0QaJVaBWHD07l  6UCQYrcJ6wab6gnQ89OJFh\n",
       "3  2R1QrQqWuw3IjoP5dXRFjt  4mk1ScvOUkuQzzCZpT6bc0\n",
       "4  0k70gnDBLPirCltbTzoxuM  5FK3qokBQYxr7ZLkr8GVFn"
      ]
     },
     "execution_count": 8,
     "metadata": {},
     "output_type": "execute_result"
    }
   ],
   "source": [
    "# 5 primeras filas\n",
    "artistsFeats.head(5)"
   ]
  },
  {
   "cell_type": "markdown",
   "metadata": {},
   "source": [
    "<h3>Subconjunto de 20.000 nodos</h3>\n",
    "</br>\n",
    "<div>Nos quedamos con los 20 mil primeros nodos y las aristas, que en origen y destino, apunten a dichos nodos.</div>"
   ]
  },
  {
   "cell_type": "markdown",
   "metadata": {},
   "source": [
    "<h4>Subconjunto de nodos</h4>"
   ]
  },
  {
   "cell_type": "code",
   "execution_count": 9,
   "metadata": {},
   "outputs": [
    {
     "name": "stdout",
     "output_type": "stream",
     "text": [
      "(20000, 6)\n"
     ]
    },
    {
     "data": {
      "text/html": [
       "<div>\n",
       "<style scoped>\n",
       "    .dataframe tbody tr th:only-of-type {\n",
       "        vertical-align: middle;\n",
       "    }\n",
       "\n",
       "    .dataframe tbody tr th {\n",
       "        vertical-align: top;\n",
       "    }\n",
       "\n",
       "    .dataframe thead th {\n",
       "        text-align: right;\n",
       "    }\n",
       "</style>\n",
       "<table border=\"1\" class=\"dataframe\">\n",
       "  <thead>\n",
       "    <tr style=\"text-align: right;\">\n",
       "      <th></th>\n",
       "      <th>spotify_id</th>\n",
       "      <th>name</th>\n",
       "      <th>followers</th>\n",
       "      <th>popularity</th>\n",
       "      <th>genres</th>\n",
       "      <th>chart_hits</th>\n",
       "    </tr>\n",
       "  </thead>\n",
       "  <tbody>\n",
       "    <tr>\n",
       "      <th>0</th>\n",
       "      <td>4lDiJcOJ2GLCK6p9q5BgfK</td>\n",
       "      <td>Kontra K</td>\n",
       "      <td>1999676.0</td>\n",
       "      <td>72</td>\n",
       "      <td>['christlicher rap', 'german hip hop']</td>\n",
       "      <td>['at (44)', 'de (111)', 'lu (22)', 'ch (31)', ...</td>\n",
       "    </tr>\n",
       "    <tr>\n",
       "      <th>1</th>\n",
       "      <td>652XIvIBNGg3C0KIGEJWit</td>\n",
       "      <td>Maxim</td>\n",
       "      <td>34596.0</td>\n",
       "      <td>36</td>\n",
       "      <td>[]</td>\n",
       "      <td>['de (1)']</td>\n",
       "    </tr>\n",
       "    <tr>\n",
       "      <th>2</th>\n",
       "      <td>3dXC1YPbnQPsfHPVkm1ipj</td>\n",
       "      <td>Christopher Martin</td>\n",
       "      <td>249233.0</td>\n",
       "      <td>52</td>\n",
       "      <td>['dancehall', 'lovers rock', 'modern reggae', ...</td>\n",
       "      <td>['at (1)', 'de (1)']</td>\n",
       "    </tr>\n",
       "    <tr>\n",
       "      <th>3</th>\n",
       "      <td>74terC9ol9zMo8rfzhSOiG</td>\n",
       "      <td>Jakob Hellman</td>\n",
       "      <td>21193.0</td>\n",
       "      <td>39</td>\n",
       "      <td>['classic swedish pop', 'norrbotten indie', 's...</td>\n",
       "      <td>['se (6)']</td>\n",
       "    </tr>\n",
       "    <tr>\n",
       "      <th>4</th>\n",
       "      <td>0FQMb3mVrAKlyU4H5mQOJh</td>\n",
       "      <td>Madh</td>\n",
       "      <td>26677.0</td>\n",
       "      <td>19</td>\n",
       "      <td>[]</td>\n",
       "      <td>['it (2)']</td>\n",
       "    </tr>\n",
       "  </tbody>\n",
       "</table>\n",
       "</div>"
      ],
      "text/plain": [
       "               spotify_id                name  followers  popularity  \\\n",
       "0  4lDiJcOJ2GLCK6p9q5BgfK            Kontra K  1999676.0          72   \n",
       "1  652XIvIBNGg3C0KIGEJWit               Maxim    34596.0          36   \n",
       "2  3dXC1YPbnQPsfHPVkm1ipj  Christopher Martin   249233.0          52   \n",
       "3  74terC9ol9zMo8rfzhSOiG       Jakob Hellman    21193.0          39   \n",
       "4  0FQMb3mVrAKlyU4H5mQOJh                Madh    26677.0          19   \n",
       "\n",
       "                                              genres  \\\n",
       "0             ['christlicher rap', 'german hip hop']   \n",
       "1                                                 []   \n",
       "2  ['dancehall', 'lovers rock', 'modern reggae', ...   \n",
       "3  ['classic swedish pop', 'norrbotten indie', 's...   \n",
       "4                                                 []   \n",
       "\n",
       "                                          chart_hits  \n",
       "0  ['at (44)', 'de (111)', 'lu (22)', 'ch (31)', ...  \n",
       "1                                         ['de (1)']  \n",
       "2                               ['at (1)', 'de (1)']  \n",
       "3                                         ['se (6)']  \n",
       "4                                         ['it (2)']  "
      ]
     },
     "execution_count": 9,
     "metadata": {},
     "output_type": "execute_result"
    }
   ],
   "source": [
    "subSpotifyArtists = spotifyArtists.drop_duplicates(subset='spotify_id').head(numberOfNodes) #Elimina nodos duplicados (mismo id)\n",
    "\n",
    "print(subSpotifyArtists.shape)\n",
    "subSpotifyArtists.head(5)"
   ]
  },
  {
   "cell_type": "markdown",
   "metadata": {},
   "source": [
    "<h4>Subconjunto de aristas</h4>"
   ]
  },
  {
   "cell_type": "code",
   "execution_count": 10,
   "metadata": {},
   "outputs": [
    {
     "name": "stdout",
     "output_type": "stream",
     "text": [
      "(72944, 2)\n"
     ]
    },
    {
     "data": {
      "text/html": [
       "<div>\n",
       "<style scoped>\n",
       "    .dataframe tbody tr th:only-of-type {\n",
       "        vertical-align: middle;\n",
       "    }\n",
       "\n",
       "    .dataframe tbody tr th {\n",
       "        vertical-align: top;\n",
       "    }\n",
       "\n",
       "    .dataframe thead th {\n",
       "        text-align: right;\n",
       "    }\n",
       "</style>\n",
       "<table border=\"1\" class=\"dataframe\">\n",
       "  <thead>\n",
       "    <tr style=\"text-align: right;\">\n",
       "      <th></th>\n",
       "      <th>id_0</th>\n",
       "      <th>id_1</th>\n",
       "    </tr>\n",
       "  </thead>\n",
       "  <tbody>\n",
       "    <tr>\n",
       "      <th>0</th>\n",
       "      <td>0hk4xVujcyOr6USD95wcWb</td>\n",
       "      <td>7Do8se3ZoaVqUt3woqqSrD</td>\n",
       "    </tr>\n",
       "    <tr>\n",
       "      <th>4</th>\n",
       "      <td>0k70gnDBLPirCltbTzoxuM</td>\n",
       "      <td>5FK3qokBQYxr7ZLkr8GVFn</td>\n",
       "    </tr>\n",
       "    <tr>\n",
       "      <th>5</th>\n",
       "      <td>1bAftSH8umNcGZ0uyV7LMg</td>\n",
       "      <td>1vqR17Iv8VFdzure1TAXEq</td>\n",
       "    </tr>\n",
       "    <tr>\n",
       "      <th>6</th>\n",
       "      <td>21ey6s5hEcTcVKDrF5MWby</td>\n",
       "      <td>7uMh23xWiuR7zsNkuNcm2G</td>\n",
       "    </tr>\n",
       "    <tr>\n",
       "      <th>11</th>\n",
       "      <td>4Cmzjffz7uLaESQIWIs9G5</td>\n",
       "      <td>6XvZkxVvGXWhlDFTR6Q4sj</td>\n",
       "    </tr>\n",
       "  </tbody>\n",
       "</table>\n",
       "</div>"
      ],
      "text/plain": [
       "                      id_0                    id_1\n",
       "0   0hk4xVujcyOr6USD95wcWb  7Do8se3ZoaVqUt3woqqSrD\n",
       "4   0k70gnDBLPirCltbTzoxuM  5FK3qokBQYxr7ZLkr8GVFn\n",
       "5   1bAftSH8umNcGZ0uyV7LMg  1vqR17Iv8VFdzure1TAXEq\n",
       "6   21ey6s5hEcTcVKDrF5MWby  7uMh23xWiuR7zsNkuNcm2G\n",
       "11  4Cmzjffz7uLaESQIWIs9G5  6XvZkxVvGXWhlDFTR6Q4sj"
      ]
     },
     "execution_count": 10,
     "metadata": {},
     "output_type": "execute_result"
    }
   ],
   "source": [
    "subArtistsFeat = artistsFeats[artistsFeats['id_0'].isin(subSpotifyArtists['spotify_id']) & artistsFeats['id_1'].isin(subSpotifyArtists['spotify_id'])]\n",
    "\n",
    "print(subArtistsFeat.shape)\n",
    "subArtistsFeat.head(5)"
   ]
  },
  {
   "cell_type": "markdown",
   "metadata": {},
   "source": [
    "<h3>Generando el grafo con NetworkX</h3>"
   ]
  },
  {
   "cell_type": "code",
   "execution_count": 11,
   "metadata": {},
   "outputs": [
    {
     "name": "stdout",
     "output_type": "stream",
     "text": [
      "Cantidad de nodos: 20000\n",
      "Cantidad de aristas: 72944\n"
     ]
    }
   ],
   "source": [
    "artistsGraph = nx.Graph()\n",
    "\n",
    "for index, row in subSpotifyArtists.iterrows():\n",
    "    node_id = row['spotify_id']\n",
    "    node_attributes = row.drop('spotify_id')\n",
    "    artistsGraph.add_node(node_id, **node_attributes)\n",
    "\n",
    "for index, row in subArtistsFeat.iterrows():\n",
    "    node_id_0 = row['id_0']\n",
    "    node_id_1 = row['id_1']\n",
    "    artistsGraph.add_edge(node_id_0, node_id_1)\n",
    "\n",
    "# Imprimimos la cantidad de nodos y aristas\n",
    "print(\"Cantidad de nodos:\", artistsGraph.number_of_nodes())\n",
    "print(\"Cantidad de aristas:\", artistsGraph.number_of_edges())"
   ]
  },
  {
   "cell_type": "code",
   "execution_count": 12,
   "metadata": {},
   "outputs": [],
   "source": [
    "# Pintar el grafo completo (si hay muchos nodos tarda bastante. Muchos = mas de 3000 nodos) \n",
    "if(numberOfNodes<=3000): #Si hay más de 3000 no se visualiza porque tarda demasiado\n",
    "    nx.draw(artistsGraph, node_size=1, alpha=0.9) \n",
    "\n",
    "    plt.show()"
   ]
  },
  {
   "cell_type": "markdown",
   "metadata": {},
   "source": [
    "<h4>Añadiendo la centralidad a la información de los nodos del grafo</h4>"
   ]
  },
  {
   "cell_type": "code",
   "execution_count": 13,
   "metadata": {},
   "outputs": [
    {
     "data": {
      "text/html": [
       "<div>\n",
       "<style scoped>\n",
       "    .dataframe tbody tr th:only-of-type {\n",
       "        vertical-align: middle;\n",
       "    }\n",
       "\n",
       "    .dataframe tbody tr th {\n",
       "        vertical-align: top;\n",
       "    }\n",
       "\n",
       "    .dataframe thead th {\n",
       "        text-align: right;\n",
       "    }\n",
       "</style>\n",
       "<table border=\"1\" class=\"dataframe\">\n",
       "  <thead>\n",
       "    <tr style=\"text-align: right;\">\n",
       "      <th></th>\n",
       "      <th>spotify_id</th>\n",
       "      <th>centrality</th>\n",
       "    </tr>\n",
       "  </thead>\n",
       "  <tbody>\n",
       "    <tr>\n",
       "      <th>0</th>\n",
       "      <td>4lDiJcOJ2GLCK6p9q5BgfK</td>\n",
       "      <td>0.00215</td>\n",
       "    </tr>\n",
       "    <tr>\n",
       "      <th>1</th>\n",
       "      <td>652XIvIBNGg3C0KIGEJWit</td>\n",
       "      <td>0.00025</td>\n",
       "    </tr>\n",
       "    <tr>\n",
       "      <th>2</th>\n",
       "      <td>3dXC1YPbnQPsfHPVkm1ipj</td>\n",
       "      <td>0.00025</td>\n",
       "    </tr>\n",
       "    <tr>\n",
       "      <th>3</th>\n",
       "      <td>74terC9ol9zMo8rfzhSOiG</td>\n",
       "      <td>0.00005</td>\n",
       "    </tr>\n",
       "    <tr>\n",
       "      <th>4</th>\n",
       "      <td>0FQMb3mVrAKlyU4H5mQOJh</td>\n",
       "      <td>0.00010</td>\n",
       "    </tr>\n",
       "  </tbody>\n",
       "</table>\n",
       "</div>"
      ],
      "text/plain": [
       "               spotify_id  centrality\n",
       "0  4lDiJcOJ2GLCK6p9q5BgfK     0.00215\n",
       "1  652XIvIBNGg3C0KIGEJWit     0.00025\n",
       "2  3dXC1YPbnQPsfHPVkm1ipj     0.00025\n",
       "3  74terC9ol9zMo8rfzhSOiG     0.00005\n",
       "4  0FQMb3mVrAKlyU4H5mQOJh     0.00010"
      ]
     },
     "execution_count": 13,
     "metadata": {},
     "output_type": "execute_result"
    }
   ],
   "source": [
    "# Calcula la centralidad de grado todos nodos\n",
    "degree_centrality = nx.degree_centrality(artistsGraph)\n",
    "\n",
    "# Crea una lista de tuplas con los valores de centralidad\n",
    "centrality_values = [(node, centrality) for node, centrality in degree_centrality.items()]\n",
    "\n",
    "# Crea un DataFrame con los valores de centralidad\n",
    "centrality_df = pandas.DataFrame(centrality_values, columns=['spotify_id', 'centrality'])\n",
    "\n",
    "# Une el DataFrame de centralidad con el DataFrame subSpotifyArtists\n",
    "subSpotifyArtistsCentral = subSpotifyArtists.merge(centrality_df, on='spotify_id')\n",
    "\n",
    "# Imprime el DataFrame con la nueva columna 'centrality'\n",
    "subSpotifyArtistsCentral[['spotify_id', 'centrality']].head(5)"
   ]
  },
  {
   "cell_type": "markdown",
   "metadata": {},
   "source": [
    "<h4>Añadiendo el coeficiente de clustering a la información de los nodos del grafo</h4>"
   ]
  },
  {
   "cell_type": "code",
   "execution_count": 14,
   "metadata": {},
   "outputs": [
    {
     "name": "stdout",
     "output_type": "stream",
     "text": [
      "               spotify_id  centrality  clustering\n",
      "0  4lDiJcOJ2GLCK6p9q5BgfK     0.00215    0.131783\n",
      "1  652XIvIBNGg3C0KIGEJWit     0.00025    0.200000\n",
      "2  3dXC1YPbnQPsfHPVkm1ipj     0.00025    0.500000\n",
      "3  74terC9ol9zMo8rfzhSOiG     0.00005    0.000000\n",
      "4  0FQMb3mVrAKlyU4H5mQOJh     0.00010    1.000000\n"
     ]
    }
   ],
   "source": [
    "# Calcula el coeficiente de clustering de los nodos\n",
    "clustering_coefficient = nx.clustering(artistsGraph)\n",
    "\n",
    "# Crea una lista de tuplas con los valores de coeficiente de clustering\n",
    "clustering_values = [(node, coefficient) for node, coefficient in clustering_coefficient.items()]\n",
    "\n",
    "# Crea un DataFrame con los valores de coeficiente de clustering\n",
    "clustering_df = pandas.DataFrame(clustering_values, columns=['spotify_id', 'clustering'])\n",
    "\n",
    "# Une el DataFrame de coeficiente de clustering con el DataFrame subSpotifyArtists\n",
    "subSpotifyArtistsCluster = subSpotifyArtistsCentral.merge(clustering_df, on='spotify_id')\n",
    "\n",
    "# Imprime el DataFrame con la nueva columna 'clustering'\n",
    "print(subSpotifyArtistsCluster[['spotify_id', 'centrality', 'clustering']].head(5))\n"
   ]
  },
  {
   "cell_type": "markdown",
   "metadata": {},
   "source": [
    "<h4>Añadiendo la comunidad a la información de los nodos del grafo</h4>"
   ]
  },
  {
   "cell_type": "code",
   "execution_count": 17,
   "metadata": {},
   "outputs": [
    {
     "name": "stdout",
     "output_type": "stream",
     "text": [
      "               spotify_id  centrality  clustering  community\n",
      "0  4lDiJcOJ2GLCK6p9q5BgfK     0.00215    0.131783          1\n",
      "1  652XIvIBNGg3C0KIGEJWit     0.00025    0.200000          1\n",
      "2  3dXC1YPbnQPsfHPVkm1ipj     0.00025    0.500000          2\n",
      "3  74terC9ol9zMo8rfzhSOiG     0.00005    0.000000          3\n",
      "4  0FQMb3mVrAKlyU4H5mQOJh     0.00010    1.000000          4\n"
     ]
    }
   ],
   "source": [
    "# Detecta comunidades en el grafo utilizando el algoritmo de Label Propagation\n",
    "communities = nx.algorithms.community.label_propagation.label_propagation_communities(artistsGraph)\n",
    "\n",
    "# Crea un diccionario para mapear cada nodo a su número de comunidad\n",
    "node_community_map = {}\n",
    "for i, community in enumerate(communities):\n",
    "    for node in community:\n",
    "        node_community_map[node] = i + 1\n",
    "\n",
    "# Agrega la columna 'community' al DataFrame subSpotifyArtists\n",
    "subSpotifyArtistsCommunity = subSpotifyArtistsCluster\n",
    "subSpotifyArtistsCommunity['community'] = subSpotifyArtistsCluster['spotify_id'].map(node_community_map)\n",
    "\n",
    "# Imprime el DataFrame con la nueva columna 'community'\n",
    "print(subSpotifyArtistsCommunity[['spotify_id', 'centrality', 'clustering', 'community']].head(5))\n"
   ]
  },
  {
   "cell_type": "code",
   "execution_count": 19,
   "metadata": {},
   "outputs": [
    {
     "data": {
      "text/plain": [
       "Index(['spotify_id', 'name', 'followers', 'popularity', 'genres', 'chart_hits',\n",
       "       'centrality', 'clustering', 'community'],\n",
       "      dtype='object')"
      ]
     },
     "execution_count": 19,
     "metadata": {},
     "output_type": "execute_result"
    }
   ],
   "source": [
    "subSpotifyArtistsCommunity.columns"
   ]
  },
  {
   "cell_type": "code",
   "execution_count": 57,
   "metadata": {},
   "outputs": [],
   "source": [
    "\n",
    "\n",
    "chartHitsMap = {}\n",
    "\n",
    "for index, row in subSpotifyArtistsCommunity.iterrows():\n",
    "    if isinstance(row['chart_hits'], str):\n",
    "        chartHitsMap[row['spotify_id']] = len(row['chart_hits'].split(','))\n",
    "    else:\n",
    "        chartHitsMap[row['spotify_id']] = 0\n",
    "\n",
    "subSpotifyArtistHits = subSpotifyArtistsCommunity\n",
    "countryCounts = subSpotifyArtistsCommunity['spotify_id'].map(chartHitsMap)\n",
    "\n",
    "subSpotifyArtistHits['country_hits_count'] = countryCounts\n",
    "subSpotifyArtistImportantColumns =subSpotifyArtistHits.drop(['chart_hits','genres','name','spotify_id'],axis=1)\n",
    "#Como los generos son unos arrays necesitamos discretizarlo añadiendo \n",
    "#nuevas columnas. Para esto nos ayudamos de MultiLabelBinarizer una \n",
    "#parte del preprocessing, pero es muy pesado asi que no lo usamos finalmente\n",
    "#from sklearn.preprocessing import MultiLabelBinarizer\n",
    "#mlb = MultiLabelBinarizer()\n",
    "\n",
    "#genres_list = [genres.replace('\"','').replace('[','').replace(']','').replace('\\'','').strip().split(',') for genres in allAttributes['genres']]\n",
    "####### Convertir la lista de listas en variables binarias\n",
    "#genres_encoded = mlb.fit_transform(genres_list)\n",
    "\n",
    "####### Crear un nuevo DataFrame con las variables binarias\n",
    "#genres_df = pandas.DataFrame(genres_encoded, columns=mlb.classes_)\n",
    "\n",
    "####### Concatenar el nuevo DataFrame con el DataFrame original\n",
    "#allAttributes_discretized = pandas.concat([allAttributes, genres_df], axis=1).drop([\"genres\",\"name\",\"spotify_id\",\"chart_hits\"],axis=1)\n",
    "\n",
    "####### Verificar el resultado\n",
    "#allAttributes_discretized.head(1)\n",
    "from sklearn.preprocessing import MinMaxScaler\n",
    "\n",
    "# Inicializar el MinMaxScaler\n",
    "scaler = MinMaxScaler(feature_range=(0, 100))\n",
    "\n",
    "# Normalizar los datos de la tabla\n",
    "subSpotifyArtists_normal = scaler.fit_transform(subSpotifyArtistImportantColumns)\n",
    "subSpotifyArtists_dis_norm = pandas.DataFrame(subSpotifyArtists_normal, columns=subSpotifyArtistImportantColumns.columns)\n"
   ]
  },
  {
   "cell_type": "markdown",
   "metadata": {},
   "source": [
    "<h4>Resultado final tras los cálculos</h4>"
   ]
  },
  {
   "cell_type": "code",
   "execution_count": 58,
   "metadata": {
    "scrolled": false
   },
   "outputs": [
    {
     "data": {
      "text/html": [
       "<div>\n",
       "<style scoped>\n",
       "    .dataframe tbody tr th:only-of-type {\n",
       "        vertical-align: middle;\n",
       "    }\n",
       "\n",
       "    .dataframe tbody tr th {\n",
       "        vertical-align: top;\n",
       "    }\n",
       "\n",
       "    .dataframe thead th {\n",
       "        text-align: right;\n",
       "    }\n",
       "</style>\n",
       "<table border=\"1\" class=\"dataframe\">\n",
       "  <thead>\n",
       "    <tr style=\"text-align: right;\">\n",
       "      <th></th>\n",
       "      <th>followers</th>\n",
       "      <th>popularity</th>\n",
       "      <th>centrality</th>\n",
       "      <th>clustering</th>\n",
       "      <th>community</th>\n",
       "      <th>country_hits_count</th>\n",
       "    </tr>\n",
       "  </thead>\n",
       "  <tbody>\n",
       "    <tr>\n",
       "      <th>0</th>\n",
       "      <td>1.957457</td>\n",
       "      <td>72.0</td>\n",
       "      <td>16.996047</td>\n",
       "      <td>13.178295</td>\n",
       "      <td>0.000000</td>\n",
       "      <td>7.042254</td>\n",
       "    </tr>\n",
       "    <tr>\n",
       "      <th>1</th>\n",
       "      <td>0.033866</td>\n",
       "      <td>36.0</td>\n",
       "      <td>1.976285</td>\n",
       "      <td>20.000000</td>\n",
       "      <td>0.000000</td>\n",
       "      <td>1.408451</td>\n",
       "    </tr>\n",
       "    <tr>\n",
       "      <th>2</th>\n",
       "      <td>0.243971</td>\n",
       "      <td>52.0</td>\n",
       "      <td>1.976285</td>\n",
       "      <td>50.000000</td>\n",
       "      <td>0.014769</td>\n",
       "      <td>2.816901</td>\n",
       "    </tr>\n",
       "  </tbody>\n",
       "</table>\n",
       "</div>"
      ],
      "text/plain": [
       "   followers  popularity  centrality  clustering  community  \\\n",
       "0   1.957457        72.0   16.996047   13.178295   0.000000   \n",
       "1   0.033866        36.0    1.976285   20.000000   0.000000   \n",
       "2   0.243971        52.0    1.976285   50.000000   0.014769   \n",
       "\n",
       "   country_hits_count  \n",
       "0            7.042254  \n",
       "1            1.408451  \n",
       "2            2.816901  "
      ]
     },
     "execution_count": 58,
     "metadata": {},
     "output_type": "execute_result"
    }
   ],
   "source": [
    "subSpotifyArtists_dis_norm.head(3)"
   ]
  },
  {
   "cell_type": "markdown",
   "metadata": {},
   "source": [
    "<h2>knn"
   ]
  },
  {
   "cell_type": "code",
   "execution_count": 59,
   "metadata": {},
   "outputs": [],
   "source": [
    "from sklearn import neighbors"
   ]
  },
  {
   "cell_type": "code",
   "execution_count": 60,
   "metadata": {},
   "outputs": [
    {
     "name": "stdout",
     "output_type": "stream",
     "text": [
      "0    72.0\n",
      "1    36.0\n",
      "Name: popularity, dtype: float64\n"
     ]
    },
    {
     "data": {
      "text/html": [
       "<div>\n",
       "<style scoped>\n",
       "    .dataframe tbody tr th:only-of-type {\n",
       "        vertical-align: middle;\n",
       "    }\n",
       "\n",
       "    .dataframe tbody tr th {\n",
       "        vertical-align: top;\n",
       "    }\n",
       "\n",
       "    .dataframe thead th {\n",
       "        text-align: right;\n",
       "    }\n",
       "</style>\n",
       "<table border=\"1\" class=\"dataframe\">\n",
       "  <thead>\n",
       "    <tr style=\"text-align: right;\">\n",
       "      <th></th>\n",
       "      <th>followers</th>\n",
       "      <th>centrality</th>\n",
       "      <th>clustering</th>\n",
       "      <th>community</th>\n",
       "      <th>country_hits_count</th>\n",
       "    </tr>\n",
       "  </thead>\n",
       "  <tbody>\n",
       "    <tr>\n",
       "      <th>0</th>\n",
       "      <td>1.957457</td>\n",
       "      <td>16.996047</td>\n",
       "      <td>13.178295</td>\n",
       "      <td>0.0</td>\n",
       "      <td>7.042254</td>\n",
       "    </tr>\n",
       "    <tr>\n",
       "      <th>1</th>\n",
       "      <td>0.033866</td>\n",
       "      <td>1.976285</td>\n",
       "      <td>20.000000</td>\n",
       "      <td>0.0</td>\n",
       "      <td>1.408451</td>\n",
       "    </tr>\n",
       "  </tbody>\n",
       "</table>\n",
       "</div>"
      ],
      "text/plain": [
       "   followers  centrality  clustering  community  country_hits_count\n",
       "0   1.957457   16.996047   13.178295        0.0            7.042254\n",
       "1   0.033866    1.976285   20.000000        0.0            1.408451"
      ]
     },
     "execution_count": 60,
     "metadata": {},
     "output_type": "execute_result"
    }
   ],
   "source": [
    "allAttributes = subSpotifyArtists_dis_norm.drop('popularity',axis=1)\n",
    "# selección de las columnas de atributos, drop quita la columna que queremos (una porque axis=1)\n",
    "objPopularity = subSpotifyArtists_dis_norm['popularity']  # selección de la columna objetivo\n",
    "print(objPopularity.head(2))\n",
    "allAttributes.head(2)"
   ]
  },
  {
   "cell_type": "code",
   "execution_count": null,
   "metadata": {},
   "outputs": [],
   "source": []
  },
  {
   "cell_type": "code",
   "execution_count": null,
   "metadata": {},
   "outputs": [],
   "source": []
  },
  {
   "cell_type": "markdown",
   "metadata": {},
   "source": [
    "<h3> dividir en conjunto de entrenamiento y de pruebas"
   ]
  },
  {
   "cell_type": "code",
   "execution_count": 61,
   "metadata": {},
   "outputs": [],
   "source": [
    "from sklearn import model_selection\n",
    "(atributos_entrenamiento, atributos_prueba,\n",
    " objetivo_entrenamiento, objetivo_prueba) = model_selection.train_test_split(\n",
    "        # Conjuntos de datos a dividir, usando los mismos índices para ambos\n",
    " #       allAttributes.loc[:,\"followers\":\"centrality\"], objPopularity,\n",
    "        allAttributes.iloc[:,:1000], \n",
    "        objPopularity,\n",
    "        # Valor de la semilla aleatoria, para que el muestreo sea reproducible,\n",
    "        # a pesar de ser aleatorio\n",
    "        random_state=34295,\n",
    "        # Tamaño del conjunto de prueba\n",
    "        test_size=.20)"
   ]
  },
  {
   "cell_type": "code",
   "execution_count": 62,
   "metadata": {},
   "outputs": [
    {
     "data": {
      "text/html": [
       "<div>\n",
       "<style scoped>\n",
       "    .dataframe tbody tr th:only-of-type {\n",
       "        vertical-align: middle;\n",
       "    }\n",
       "\n",
       "    .dataframe tbody tr th {\n",
       "        vertical-align: top;\n",
       "    }\n",
       "\n",
       "    .dataframe thead th {\n",
       "        text-align: right;\n",
       "    }\n",
       "</style>\n",
       "<table border=\"1\" class=\"dataframe\">\n",
       "  <thead>\n",
       "    <tr style=\"text-align: right;\">\n",
       "      <th></th>\n",
       "      <th>followers</th>\n",
       "      <th>centrality</th>\n",
       "      <th>clustering</th>\n",
       "      <th>community</th>\n",
       "      <th>country_hits_count</th>\n",
       "    </tr>\n",
       "  </thead>\n",
       "  <tbody>\n",
       "    <tr>\n",
       "      <th>0</th>\n",
       "      <td>1.957457</td>\n",
       "      <td>16.996047</td>\n",
       "      <td>13.178295</td>\n",
       "      <td>0.000000</td>\n",
       "      <td>7.042254</td>\n",
       "    </tr>\n",
       "    <tr>\n",
       "      <th>1</th>\n",
       "      <td>0.033866</td>\n",
       "      <td>1.976285</td>\n",
       "      <td>20.000000</td>\n",
       "      <td>0.000000</td>\n",
       "      <td>1.408451</td>\n",
       "    </tr>\n",
       "    <tr>\n",
       "      <th>2</th>\n",
       "      <td>0.243971</td>\n",
       "      <td>1.976285</td>\n",
       "      <td>50.000000</td>\n",
       "      <td>0.014769</td>\n",
       "      <td>2.816901</td>\n",
       "    </tr>\n",
       "  </tbody>\n",
       "</table>\n",
       "</div>"
      ],
      "text/plain": [
       "   followers  centrality  clustering  community  country_hits_count\n",
       "0   1.957457   16.996047   13.178295   0.000000            7.042254\n",
       "1   0.033866    1.976285   20.000000   0.000000            1.408451\n",
       "2   0.243971    1.976285   50.000000   0.014769            2.816901"
      ]
     },
     "execution_count": 62,
     "metadata": {},
     "output_type": "execute_result"
    }
   ],
   "source": [
    "allAttributes.head(3)"
   ]
  },
  {
   "cell_type": "markdown",
   "metadata": {},
   "source": []
  },
  {
   "cell_type": "code",
   "execution_count": 99,
   "metadata": {},
   "outputs": [],
   "source": [
    "import sklearn.neighbors as neighbors\n",
    "def knnClasificator(selectedMetric,neighborsCount):\n",
    "    clasif_kNN = neighbors.KNeighborsRegressor(\n",
    "        n_neighbors=neighborsCount, \n",
    "        metric=selectedMetric \n",
    "    )\n",
    "    clasif_kNN.fit(atributos_entrenamiento, objetivo_entrenamiento)\n",
    "    predictions = clasif_kNN.predict(atributos_prueba)\n",
    "    score = clasif_kNN.score(atributos_prueba, objetivo_prueba)\n",
    "    return(predictions,score)\n",
    "\n",
    "\n",
    "# Calcular la diferencia absoluta entre las predicciones y los valores objetivo\n",
    "#diferencia_absoluta = numpy.abs(predicciones - objetivo_prueba)\n",
    "\n",
    "# Verificar si la diferencia absoluta está dentro del intervalo de ±5\n",
    "#resultado = numpy.mean(diferencia_absoluta <= 20/2)\n",
    "#print(\"score +-\",resultado)\n",
    "#print(\"\\nobjetivo\\t resultado\")\n",
    "#for i in range (0,10): print(objetivo_prueba.iloc[i],\"\\t->\\t\",predicciones[i])"
   ]
  },
  {
   "cell_type": "code",
   "execution_count": 188,
   "metadata": {},
   "outputs": [],
   "source": []
  },
  {
   "cell_type": "code",
   "execution_count": 279,
   "metadata": {},
   "outputs": [
    {
     "name": "stdout",
     "output_type": "stream",
     "text": [
      "euclidean finished.\n",
      "manhattan finished.\n",
      "cosine finished.\n",
      "minkowski finished.\n"
     ]
    }
   ],
   "source": [
    "#'pyfunc', 'l1', 'manhattan', 'wminkowski', 'sqeuclidean', 'sokalsneath', 'canberra', 'matching', 'minkowski', 'haversine', 'infinity', 'cosine', 'rogerstanimoto', 'l2', 'correlation', 'nan_euclidean', 'yule', 'seuclidean', 'hamming', 'p', 'sokalmichener', 'precomputed', 'cityblock', 'chebyshev', 'russellrao', 'dice', 'euclidean', 'braycurtis', 'mahalanobis', 'kulsinski', 'jaccard'\n",
    "import math\n",
    "scores = {}\n",
    "metrics= ['hamming','euclidean','manhattan','cosine','minkowski']\n",
    "maximumN = 200\n",
    "for m in range(1, len(metrics)):\n",
    "    scores[m]=[]\n",
    "    best = 0\n",
    "    jump = 1\n",
    "    n = 1 \n",
    "    while n < maximumN:\n",
    "        (pred,score) = knnClasificator(metrics[m],n)\n",
    "        scores[m].append((n,score)) #to show graphics\n",
    "        if(score>=best):\n",
    "                jump=1\n",
    "                best=score\n",
    "        else:\n",
    "            jump = math.ceil(jump*1.2)\n",
    "            \n",
    "        n +=jump\n",
    "    print(metrics[m]+\" finished.\")\n",
    "        "
   ]
  },
  {
   "cell_type": "code",
   "execution_count": 291,
   "metadata": {},
   "outputs": [
    {
     "data": {
      "image/png": "[encoded data removed]",
      "text/plain": [
       "<Figure size 640x480 with 1 Axes>"
      ]
     },
     "metadata": {},
     "output_type": "display_data"
    },
    {
     "data": {
      "image/png": "[encoded data removed]",
      "text/plain": [
       "<Figure size 640x480 with 1 Axes>"
      ]
     },
     "metadata": {},
     "output_type": "display_data"
    },
    {
     "data": {
      "image/png": "[encoded data removed]",
      "text/plain": [
       "<Figure size 640x480 with 1 Axes>"
      ]
     },
     "metadata": {},
     "output_type": "display_data"
    },
    {
     "data": {
      "image/png": "[encoded data removed]",
      "text/plain": [
       "<Figure size 640x480 with 1 Axes>"
      ]
     },
     "metadata": {},
     "output_type": "display_data"
    }
   ],
   "source": [
    "import matplotlib.pyplot as plt; plt.rcdefaults()\n",
    "\n",
    "for m in scores.keys():\n",
    "    points = scores[m]\n",
    "    neighborsX, scoresY = zip(*points)\n",
    "    plt.scatter(neighborsX, scoresY,s=4,color='b')\n",
    "    maxScore = max(scoresY)\n",
    "    bestN = neighborsX[scoresY.index(maxScore)]\n",
    "    message =  \"Score máximo {:.2f}%\".format(maxScore*100)\n",
    "    plt.axhline(maxScore, color='red', linestyle='--', label=message)\n",
    "    plt.axvline(bestN, color='b', linestyle='-', label=\"n= \"+str(bestN))\n",
    "    plt.legend()\n",
    "    plt.xlabel('Número de vecinos')\n",
    "    plt.ylabel('Score')\n",
    "    plt.title(\"Knn usando distancia: \"+metrics[m].upper())\n",
    "    plt.show()\n"
   ]
  },
  {
   "cell_type": "code",
   "execution_count": null,
   "metadata": {},
   "outputs": [],
   "source": []
  },
  {
   "cell_type": "code",
   "execution_count": null,
   "metadata": {},
   "outputs": [],
   "source": []
  },
  {
   "cell_type": "code",
   "execution_count": null,
   "metadata": {},
   "outputs": [],
   "source": []
  },
  {
   "cell_type": "markdown",
   "metadata": {},
   "source": [
    "explicar diferencias distancia euclidea y hamming"
   ]
  },
  {
   "cell_type": "code",
   "execution_count": null,
   "metadata": {},
   "outputs": [],
   "source": []
  },
  {
   "cell_type": "code",
   "execution_count": null,
   "metadata": {},
   "outputs": [],
   "source": []
  }
 ],
 "metadata": {
  "kernelspec": {
   "display_name": "Python 3 (ipykernel)",
   "language": "python",
   "name": "python3"
  },
  "language_info": {
   "codemirror_mode": {
    "name": "ipython",
    "version": 3
   },
   "file_extension": ".py",
   "mimetype": "text/x-python",
   "name": "python",
   "nbconvert_exporter": "python",
   "pygments_lexer": "ipython3",
   "version": "3.10.9"
  }
 },
 "nbformat": 4,
 "nbformat_minor": 2
}
