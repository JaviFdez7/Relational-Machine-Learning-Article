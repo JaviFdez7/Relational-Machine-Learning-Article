{
 "cells": [
  {
   "cell_type": "markdown",
   "metadata": {},
   "source": [
    "<h1 style=\"font-size: 50px;\">Relational Automatic Learning</h1>\n",
    "\n",
    "<div style=\"width: 100%; height: 1px; background-color: black; margin-top: 20px; margin-bottom: 20px\"></div>"
   ]
  },
  {
   "cell_type": "markdown",
   "metadata": {},
   "source": [
    "<h3>Importando librerías</h3>"
   ]
  },
  {
   "cell_type": "code",
   "execution_count": 62,
   "metadata": {},
   "outputs": [],
   "source": [
    "#Abrirlo desde jupyter (no desde sage)\n",
    "\n",
    "#!pip install networkx\n",
    "#!pip install scikit-learn\n",
    "\n",
    "import networkx as nx\n",
    "import sklearn as sk\n",
    "\n",
    "import pandas\n",
    "import numpy\n",
    "import matplotlib.pyplot as plt"
   ]
  },
  {
   "cell_type": "markdown",
   "metadata": {},
   "source": [
    "<h3>Variables de configuración</h3>"
   ]
  },
  {
   "cell_type": "code",
   "execution_count": 99,
   "metadata": {},
   "outputs": [],
   "source": [
    "numberOfNodes = 20000 #Recomendado 20000 para reducir tiempos de ejecución"
   ]
  },
  {
   "cell_type": "markdown",
   "metadata": {},
   "source": [
    "<h3>Lectura de nodos (Artists)</h3>"
   ]
  },
  {
   "cell_type": "code",
   "execution_count": 100,
   "metadata": {},
   "outputs": [],
   "source": [
    "spotifyArtists = pandas.read_csv('data/nodes.csv', header=1, low_memory=False,\n",
    "                          names=['spotify_id','name','followers','popularity','genres','chart_hits'])"
   ]
  },
  {
   "cell_type": "code",
   "execution_count": 101,
   "metadata": {},
   "outputs": [
    {
     "name": "stdout",
     "output_type": "stream",
     "text": [
      "(156421, 6)\n"
     ]
    }
   ],
   "source": [
    "print(spotifyArtists.shape)"
   ]
  },
  {
   "cell_type": "code",
   "execution_count": 102,
   "metadata": {
    "scrolled": true
   },
   "outputs": [
    {
     "data": {
      "text/html": [
       "<div>\n",
       "<style scoped>\n",
       "    .dataframe tbody tr th:only-of-type {\n",
       "        vertical-align: middle;\n",
       "    }\n",
       "\n",
       "    .dataframe tbody tr th {\n",
       "        vertical-align: top;\n",
       "    }\n",
       "\n",
       "    .dataframe thead th {\n",
       "        text-align: right;\n",
       "    }\n",
       "</style>\n",
       "<table border=\"1\" class=\"dataframe\">\n",
       "  <thead>\n",
       "    <tr style=\"text-align: right;\">\n",
       "      <th></th>\n",
       "      <th>spotify_id</th>\n",
       "      <th>name</th>\n",
       "      <th>followers</th>\n",
       "      <th>popularity</th>\n",
       "      <th>genres</th>\n",
       "      <th>chart_hits</th>\n",
       "    </tr>\n",
       "  </thead>\n",
       "  <tbody>\n",
       "    <tr>\n",
       "      <th>0</th>\n",
       "      <td>4lDiJcOJ2GLCK6p9q5BgfK</td>\n",
       "      <td>Kontra K</td>\n",
       "      <td>1999676.0</td>\n",
       "      <td>72</td>\n",
       "      <td>['christlicher rap', 'german hip hop']</td>\n",
       "      <td>['at (44)', 'de (111)', 'lu (22)', 'ch (31)', ...</td>\n",
       "    </tr>\n",
       "    <tr>\n",
       "      <th>1</th>\n",
       "      <td>652XIvIBNGg3C0KIGEJWit</td>\n",
       "      <td>Maxim</td>\n",
       "      <td>34596.0</td>\n",
       "      <td>36</td>\n",
       "      <td>[]</td>\n",
       "      <td>['de (1)']</td>\n",
       "    </tr>\n",
       "    <tr>\n",
       "      <th>2</th>\n",
       "      <td>3dXC1YPbnQPsfHPVkm1ipj</td>\n",
       "      <td>Christopher Martin</td>\n",
       "      <td>249233.0</td>\n",
       "      <td>52</td>\n",
       "      <td>['dancehall', 'lovers rock', 'modern reggae', ...</td>\n",
       "      <td>['at (1)', 'de (1)']</td>\n",
       "    </tr>\n",
       "    <tr>\n",
       "      <th>3</th>\n",
       "      <td>74terC9ol9zMo8rfzhSOiG</td>\n",
       "      <td>Jakob Hellman</td>\n",
       "      <td>21193.0</td>\n",
       "      <td>39</td>\n",
       "      <td>['classic swedish pop', 'norrbotten indie', 's...</td>\n",
       "      <td>['se (6)']</td>\n",
       "    </tr>\n",
       "    <tr>\n",
       "      <th>4</th>\n",
       "      <td>0FQMb3mVrAKlyU4H5mQOJh</td>\n",
       "      <td>Madh</td>\n",
       "      <td>26677.0</td>\n",
       "      <td>19</td>\n",
       "      <td>[]</td>\n",
       "      <td>['it (2)']</td>\n",
       "    </tr>\n",
       "    <tr>\n",
       "      <th>5</th>\n",
       "      <td>71BhXa24Zf5zcikUb00l2N</td>\n",
       "      <td>Juice</td>\n",
       "      <td>11312.0</td>\n",
       "      <td>37</td>\n",
       "      <td>['swedish drill', 'swedish hip hop', 'swedish ...</td>\n",
       "      <td>['se (4)']</td>\n",
       "    </tr>\n",
       "    <tr>\n",
       "      <th>6</th>\n",
       "      <td>3TG1RXLaEhHz5SIPMWahit</td>\n",
       "      <td>Nehuda</td>\n",
       "      <td>36252.0</td>\n",
       "      <td>31</td>\n",
       "      <td>['francoton']</td>\n",
       "      <td>['fr (1)']</td>\n",
       "    </tr>\n",
       "    <tr>\n",
       "      <th>7</th>\n",
       "      <td>7MFvm8pwjLdmVBZddGNiQH</td>\n",
       "      <td>VovaZiLvova</td>\n",
       "      <td>14619.0</td>\n",
       "      <td>43</td>\n",
       "      <td>['ukrainian hip hop', 'ukrainian pop', 'ukrain...</td>\n",
       "      <td>['ua (1)']</td>\n",
       "    </tr>\n",
       "    <tr>\n",
       "      <th>8</th>\n",
       "      <td>5I82NM6jN4Y267iHwVeNR9</td>\n",
       "      <td>Nata Record</td>\n",
       "      <td>188.0</td>\n",
       "      <td>12</td>\n",
       "      <td>[]</td>\n",
       "      <td>['do (1)']</td>\n",
       "    </tr>\n",
       "    <tr>\n",
       "      <th>9</th>\n",
       "      <td>5OkJ74jazRprW3kCTjfgOL</td>\n",
       "      <td>Yomi</td>\n",
       "      <td>7246.0</td>\n",
       "      <td>30</td>\n",
       "      <td>['norwegian pop rap']</td>\n",
       "      <td>['no (2)']</td>\n",
       "    </tr>\n",
       "  </tbody>\n",
       "</table>\n",
       "</div>"
      ],
      "text/plain": [
       "               spotify_id                name  followers  popularity  \\\n",
       "0  4lDiJcOJ2GLCK6p9q5BgfK            Kontra K  1999676.0          72   \n",
       "1  652XIvIBNGg3C0KIGEJWit               Maxim    34596.0          36   \n",
       "2  3dXC1YPbnQPsfHPVkm1ipj  Christopher Martin   249233.0          52   \n",
       "3  74terC9ol9zMo8rfzhSOiG       Jakob Hellman    21193.0          39   \n",
       "4  0FQMb3mVrAKlyU4H5mQOJh                Madh    26677.0          19   \n",
       "5  71BhXa24Zf5zcikUb00l2N               Juice    11312.0          37   \n",
       "6  3TG1RXLaEhHz5SIPMWahit              Nehuda    36252.0          31   \n",
       "7  7MFvm8pwjLdmVBZddGNiQH         VovaZiLvova    14619.0          43   \n",
       "8  5I82NM6jN4Y267iHwVeNR9         Nata Record      188.0          12   \n",
       "9  5OkJ74jazRprW3kCTjfgOL                Yomi     7246.0          30   \n",
       "\n",
       "                                              genres  \\\n",
       "0             ['christlicher rap', 'german hip hop']   \n",
       "1                                                 []   \n",
       "2  ['dancehall', 'lovers rock', 'modern reggae', ...   \n",
       "3  ['classic swedish pop', 'norrbotten indie', 's...   \n",
       "4                                                 []   \n",
       "5  ['swedish drill', 'swedish hip hop', 'swedish ...   \n",
       "6                                      ['francoton']   \n",
       "7  ['ukrainian hip hop', 'ukrainian pop', 'ukrain...   \n",
       "8                                                 []   \n",
       "9                              ['norwegian pop rap']   \n",
       "\n",
       "                                          chart_hits  \n",
       "0  ['at (44)', 'de (111)', 'lu (22)', 'ch (31)', ...  \n",
       "1                                         ['de (1)']  \n",
       "2                               ['at (1)', 'de (1)']  \n",
       "3                                         ['se (6)']  \n",
       "4                                         ['it (2)']  \n",
       "5                                         ['se (4)']  \n",
       "6                                         ['fr (1)']  \n",
       "7                                         ['ua (1)']  \n",
       "8                                         ['do (1)']  \n",
       "9                                         ['no (2)']  "
      ]
     },
     "execution_count": 102,
     "metadata": {},
     "output_type": "execute_result"
    }
   ],
   "source": [
    "# 10 primeras filas\n",
    "spotifyArtists.head(10)"
   ]
  },
  {
   "cell_type": "markdown",
   "metadata": {},
   "source": [
    "<h3>Lectura de aristas (Artists feats)</h3>"
   ]
  },
  {
   "cell_type": "code",
   "execution_count": 103,
   "metadata": {},
   "outputs": [],
   "source": [
    "artistsFeats = pandas.read_csv('data/edges.csv', header=1, low_memory=False,\n",
    "                          names=['id_0','id_1'])"
   ]
  },
  {
   "cell_type": "code",
   "execution_count": 104,
   "metadata": {},
   "outputs": [
    {
     "name": "stdout",
     "output_type": "stream",
     "text": [
      "(300385, 2)\n"
     ]
    }
   ],
   "source": [
    "print(artistsFeats.shape)"
   ]
  },
  {
   "cell_type": "code",
   "execution_count": 105,
   "metadata": {},
   "outputs": [
    {
     "data": {
      "text/html": [
       "<div>\n",
       "<style scoped>\n",
       "    .dataframe tbody tr th:only-of-type {\n",
       "        vertical-align: middle;\n",
       "    }\n",
       "\n",
       "    .dataframe tbody tr th {\n",
       "        vertical-align: top;\n",
       "    }\n",
       "\n",
       "    .dataframe thead th {\n",
       "        text-align: right;\n",
       "    }\n",
       "</style>\n",
       "<table border=\"1\" class=\"dataframe\">\n",
       "  <thead>\n",
       "    <tr style=\"text-align: right;\">\n",
       "      <th></th>\n",
       "      <th>id_0</th>\n",
       "      <th>id_1</th>\n",
       "    </tr>\n",
       "  </thead>\n",
       "  <tbody>\n",
       "    <tr>\n",
       "      <th>0</th>\n",
       "      <td>0hk4xVujcyOr6USD95wcWb</td>\n",
       "      <td>7Do8se3ZoaVqUt3woqqSrD</td>\n",
       "    </tr>\n",
       "    <tr>\n",
       "      <th>1</th>\n",
       "      <td>38jpuy3yt3QIxQ8Fn1HTeJ</td>\n",
       "      <td>4csQIMQm6vI2A2SCVDuM2z</td>\n",
       "    </tr>\n",
       "    <tr>\n",
       "      <th>2</th>\n",
       "      <td>6PvcxssrQ0QaJVaBWHD07l</td>\n",
       "      <td>6UCQYrcJ6wab6gnQ89OJFh</td>\n",
       "    </tr>\n",
       "    <tr>\n",
       "      <th>3</th>\n",
       "      <td>2R1QrQqWuw3IjoP5dXRFjt</td>\n",
       "      <td>4mk1ScvOUkuQzzCZpT6bc0</td>\n",
       "    </tr>\n",
       "    <tr>\n",
       "      <th>4</th>\n",
       "      <td>0k70gnDBLPirCltbTzoxuM</td>\n",
       "      <td>5FK3qokBQYxr7ZLkr8GVFn</td>\n",
       "    </tr>\n",
       "    <tr>\n",
       "      <th>5</th>\n",
       "      <td>1bAftSH8umNcGZ0uyV7LMg</td>\n",
       "      <td>1vqR17Iv8VFdzure1TAXEq</td>\n",
       "    </tr>\n",
       "    <tr>\n",
       "      <th>6</th>\n",
       "      <td>21ey6s5hEcTcVKDrF5MWby</td>\n",
       "      <td>7uMh23xWiuR7zsNkuNcm2G</td>\n",
       "    </tr>\n",
       "    <tr>\n",
       "      <th>7</th>\n",
       "      <td>1mYsTxnqsietFxj1OgoGbG</td>\n",
       "      <td>7snhzmuew8iLEDxMIhOU1P</td>\n",
       "    </tr>\n",
       "    <tr>\n",
       "      <th>8</th>\n",
       "      <td>3GBBxBdoolb0B5YizZq9bF</td>\n",
       "      <td>3yayE6rrovGcNkMManKwVf</td>\n",
       "    </tr>\n",
       "    <tr>\n",
       "      <th>9</th>\n",
       "      <td>2I9SLklAOG0vdMiUUMNxRl</td>\n",
       "      <td>4IprNlQiJZUUJhDl0fL2SL</td>\n",
       "    </tr>\n",
       "  </tbody>\n",
       "</table>\n",
       "</div>"
      ],
      "text/plain": [
       "                     id_0                    id_1\n",
       "0  0hk4xVujcyOr6USD95wcWb  7Do8se3ZoaVqUt3woqqSrD\n",
       "1  38jpuy3yt3QIxQ8Fn1HTeJ  4csQIMQm6vI2A2SCVDuM2z\n",
       "2  6PvcxssrQ0QaJVaBWHD07l  6UCQYrcJ6wab6gnQ89OJFh\n",
       "3  2R1QrQqWuw3IjoP5dXRFjt  4mk1ScvOUkuQzzCZpT6bc0\n",
       "4  0k70gnDBLPirCltbTzoxuM  5FK3qokBQYxr7ZLkr8GVFn\n",
       "5  1bAftSH8umNcGZ0uyV7LMg  1vqR17Iv8VFdzure1TAXEq\n",
       "6  21ey6s5hEcTcVKDrF5MWby  7uMh23xWiuR7zsNkuNcm2G\n",
       "7  1mYsTxnqsietFxj1OgoGbG  7snhzmuew8iLEDxMIhOU1P\n",
       "8  3GBBxBdoolb0B5YizZq9bF  3yayE6rrovGcNkMManKwVf\n",
       "9  2I9SLklAOG0vdMiUUMNxRl  4IprNlQiJZUUJhDl0fL2SL"
      ]
     },
     "execution_count": 105,
     "metadata": {},
     "output_type": "execute_result"
    }
   ],
   "source": [
    "# 10 primeras filas\n",
    "artistsFeats.head(10)"
   ]
  },
  {
   "cell_type": "markdown",
   "metadata": {},
   "source": [
    "<h3>Subconjunto de 20.000 nodos</h3>\n",
    "</br>\n",
    "<div>Nos quedamos con los 20 mil primeros nodos y las aristas, que en origen y destino, apunten a dichos nodos.</div>"
   ]
  },
  {
   "cell_type": "markdown",
   "metadata": {},
   "source": [
    "<h4>Subconjunto de nodos</h4>"
   ]
  },
  {
   "cell_type": "code",
   "execution_count": 106,
   "metadata": {},
   "outputs": [
    {
     "name": "stdout",
     "output_type": "stream",
     "text": [
      "(20000, 6)\n"
     ]
    },
    {
     "data": {
      "text/html": [
       "<div>\n",
       "<style scoped>\n",
       "    .dataframe tbody tr th:only-of-type {\n",
       "        vertical-align: middle;\n",
       "    }\n",
       "\n",
       "    .dataframe tbody tr th {\n",
       "        vertical-align: top;\n",
       "    }\n",
       "\n",
       "    .dataframe thead th {\n",
       "        text-align: right;\n",
       "    }\n",
       "</style>\n",
       "<table border=\"1\" class=\"dataframe\">\n",
       "  <thead>\n",
       "    <tr style=\"text-align: right;\">\n",
       "      <th></th>\n",
       "      <th>spotify_id</th>\n",
       "      <th>name</th>\n",
       "      <th>followers</th>\n",
       "      <th>popularity</th>\n",
       "      <th>genres</th>\n",
       "      <th>chart_hits</th>\n",
       "    </tr>\n",
       "  </thead>\n",
       "  <tbody>\n",
       "    <tr>\n",
       "      <th>0</th>\n",
       "      <td>4lDiJcOJ2GLCK6p9q5BgfK</td>\n",
       "      <td>Kontra K</td>\n",
       "      <td>1999676.0</td>\n",
       "      <td>72</td>\n",
       "      <td>['christlicher rap', 'german hip hop']</td>\n",
       "      <td>['at (44)', 'de (111)', 'lu (22)', 'ch (31)', ...</td>\n",
       "    </tr>\n",
       "    <tr>\n",
       "      <th>1</th>\n",
       "      <td>652XIvIBNGg3C0KIGEJWit</td>\n",
       "      <td>Maxim</td>\n",
       "      <td>34596.0</td>\n",
       "      <td>36</td>\n",
       "      <td>[]</td>\n",
       "      <td>['de (1)']</td>\n",
       "    </tr>\n",
       "    <tr>\n",
       "      <th>2</th>\n",
       "      <td>3dXC1YPbnQPsfHPVkm1ipj</td>\n",
       "      <td>Christopher Martin</td>\n",
       "      <td>249233.0</td>\n",
       "      <td>52</td>\n",
       "      <td>['dancehall', 'lovers rock', 'modern reggae', ...</td>\n",
       "      <td>['at (1)', 'de (1)']</td>\n",
       "    </tr>\n",
       "    <tr>\n",
       "      <th>3</th>\n",
       "      <td>74terC9ol9zMo8rfzhSOiG</td>\n",
       "      <td>Jakob Hellman</td>\n",
       "      <td>21193.0</td>\n",
       "      <td>39</td>\n",
       "      <td>['classic swedish pop', 'norrbotten indie', 's...</td>\n",
       "      <td>['se (6)']</td>\n",
       "    </tr>\n",
       "    <tr>\n",
       "      <th>4</th>\n",
       "      <td>0FQMb3mVrAKlyU4H5mQOJh</td>\n",
       "      <td>Madh</td>\n",
       "      <td>26677.0</td>\n",
       "      <td>19</td>\n",
       "      <td>[]</td>\n",
       "      <td>['it (2)']</td>\n",
       "    </tr>\n",
       "    <tr>\n",
       "      <th>5</th>\n",
       "      <td>71BhXa24Zf5zcikUb00l2N</td>\n",
       "      <td>Juice</td>\n",
       "      <td>11312.0</td>\n",
       "      <td>37</td>\n",
       "      <td>['swedish drill', 'swedish hip hop', 'swedish ...</td>\n",
       "      <td>['se (4)']</td>\n",
       "    </tr>\n",
       "    <tr>\n",
       "      <th>6</th>\n",
       "      <td>3TG1RXLaEhHz5SIPMWahit</td>\n",
       "      <td>Nehuda</td>\n",
       "      <td>36252.0</td>\n",
       "      <td>31</td>\n",
       "      <td>['francoton']</td>\n",
       "      <td>['fr (1)']</td>\n",
       "    </tr>\n",
       "    <tr>\n",
       "      <th>7</th>\n",
       "      <td>7MFvm8pwjLdmVBZddGNiQH</td>\n",
       "      <td>VovaZiLvova</td>\n",
       "      <td>14619.0</td>\n",
       "      <td>43</td>\n",
       "      <td>['ukrainian hip hop', 'ukrainian pop', 'ukrain...</td>\n",
       "      <td>['ua (1)']</td>\n",
       "    </tr>\n",
       "    <tr>\n",
       "      <th>8</th>\n",
       "      <td>5I82NM6jN4Y267iHwVeNR9</td>\n",
       "      <td>Nata Record</td>\n",
       "      <td>188.0</td>\n",
       "      <td>12</td>\n",
       "      <td>[]</td>\n",
       "      <td>['do (1)']</td>\n",
       "    </tr>\n",
       "    <tr>\n",
       "      <th>9</th>\n",
       "      <td>5OkJ74jazRprW3kCTjfgOL</td>\n",
       "      <td>Yomi</td>\n",
       "      <td>7246.0</td>\n",
       "      <td>30</td>\n",
       "      <td>['norwegian pop rap']</td>\n",
       "      <td>['no (2)']</td>\n",
       "    </tr>\n",
       "  </tbody>\n",
       "</table>\n",
       "</div>"
      ],
      "text/plain": [
       "               spotify_id                name  followers  popularity  \\\n",
       "0  4lDiJcOJ2GLCK6p9q5BgfK            Kontra K  1999676.0          72   \n",
       "1  652XIvIBNGg3C0KIGEJWit               Maxim    34596.0          36   \n",
       "2  3dXC1YPbnQPsfHPVkm1ipj  Christopher Martin   249233.0          52   \n",
       "3  74terC9ol9zMo8rfzhSOiG       Jakob Hellman    21193.0          39   \n",
       "4  0FQMb3mVrAKlyU4H5mQOJh                Madh    26677.0          19   \n",
       "5  71BhXa24Zf5zcikUb00l2N               Juice    11312.0          37   \n",
       "6  3TG1RXLaEhHz5SIPMWahit              Nehuda    36252.0          31   \n",
       "7  7MFvm8pwjLdmVBZddGNiQH         VovaZiLvova    14619.0          43   \n",
       "8  5I82NM6jN4Y267iHwVeNR9         Nata Record      188.0          12   \n",
       "9  5OkJ74jazRprW3kCTjfgOL                Yomi     7246.0          30   \n",
       "\n",
       "                                              genres  \\\n",
       "0             ['christlicher rap', 'german hip hop']   \n",
       "1                                                 []   \n",
       "2  ['dancehall', 'lovers rock', 'modern reggae', ...   \n",
       "3  ['classic swedish pop', 'norrbotten indie', 's...   \n",
       "4                                                 []   \n",
       "5  ['swedish drill', 'swedish hip hop', 'swedish ...   \n",
       "6                                      ['francoton']   \n",
       "7  ['ukrainian hip hop', 'ukrainian pop', 'ukrain...   \n",
       "8                                                 []   \n",
       "9                              ['norwegian pop rap']   \n",
       "\n",
       "                                          chart_hits  \n",
       "0  ['at (44)', 'de (111)', 'lu (22)', 'ch (31)', ...  \n",
       "1                                         ['de (1)']  \n",
       "2                               ['at (1)', 'de (1)']  \n",
       "3                                         ['se (6)']  \n",
       "4                                         ['it (2)']  \n",
       "5                                         ['se (4)']  \n",
       "6                                         ['fr (1)']  \n",
       "7                                         ['ua (1)']  \n",
       "8                                         ['do (1)']  \n",
       "9                                         ['no (2)']  "
      ]
     },
     "execution_count": 106,
     "metadata": {},
     "output_type": "execute_result"
    }
   ],
   "source": [
    "subSpotifyArtists = spotifyArtists.drop_duplicates(subset='spotify_id').head(numberOfNodes) #Elimina nodos duplicados (mismo id)\n",
    "\n",
    "print(subSpotifyArtists.shape)\n",
    "subSpotifyArtists.head(10)"
   ]
  },
  {
   "cell_type": "markdown",
   "metadata": {},
   "source": [
    "<h4>Subconjunto de aristas</h4>"
   ]
  },
  {
   "cell_type": "code",
   "execution_count": 107,
   "metadata": {},
   "outputs": [
    {
     "name": "stdout",
     "output_type": "stream",
     "text": [
      "(72944, 2)\n"
     ]
    },
    {
     "data": {
      "text/html": [
       "<div>\n",
       "<style scoped>\n",
       "    .dataframe tbody tr th:only-of-type {\n",
       "        vertical-align: middle;\n",
       "    }\n",
       "\n",
       "    .dataframe tbody tr th {\n",
       "        vertical-align: top;\n",
       "    }\n",
       "\n",
       "    .dataframe thead th {\n",
       "        text-align: right;\n",
       "    }\n",
       "</style>\n",
       "<table border=\"1\" class=\"dataframe\">\n",
       "  <thead>\n",
       "    <tr style=\"text-align: right;\">\n",
       "      <th></th>\n",
       "      <th>id_0</th>\n",
       "      <th>id_1</th>\n",
       "    </tr>\n",
       "  </thead>\n",
       "  <tbody>\n",
       "    <tr>\n",
       "      <th>0</th>\n",
       "      <td>0hk4xVujcyOr6USD95wcWb</td>\n",
       "      <td>7Do8se3ZoaVqUt3woqqSrD</td>\n",
       "    </tr>\n",
       "    <tr>\n",
       "      <th>4</th>\n",
       "      <td>0k70gnDBLPirCltbTzoxuM</td>\n",
       "      <td>5FK3qokBQYxr7ZLkr8GVFn</td>\n",
       "    </tr>\n",
       "    <tr>\n",
       "      <th>5</th>\n",
       "      <td>1bAftSH8umNcGZ0uyV7LMg</td>\n",
       "      <td>1vqR17Iv8VFdzure1TAXEq</td>\n",
       "    </tr>\n",
       "    <tr>\n",
       "      <th>6</th>\n",
       "      <td>21ey6s5hEcTcVKDrF5MWby</td>\n",
       "      <td>7uMh23xWiuR7zsNkuNcm2G</td>\n",
       "    </tr>\n",
       "    <tr>\n",
       "      <th>11</th>\n",
       "      <td>4Cmzjffz7uLaESQIWIs9G5</td>\n",
       "      <td>6XvZkxVvGXWhlDFTR6Q4sj</td>\n",
       "    </tr>\n",
       "    <tr>\n",
       "      <th>13</th>\n",
       "      <td>0OZ5IlVdYIK1Et3nW6aTO5</td>\n",
       "      <td>6eUofOqC7jS5aPeTa1a71y</td>\n",
       "    </tr>\n",
       "    <tr>\n",
       "      <th>16</th>\n",
       "      <td>0IpLJsvZHA1op1pw8GAoPu</td>\n",
       "      <td>2QjS2N6sORI7H4qbf6xitS</td>\n",
       "    </tr>\n",
       "    <tr>\n",
       "      <th>17</th>\n",
       "      <td>2oX42qP5ineK3hrhBECLmj</td>\n",
       "      <td>6aZyMrc4doVtZyKNilOmwu</td>\n",
       "    </tr>\n",
       "    <tr>\n",
       "      <th>25</th>\n",
       "      <td>2cPqdH7XMvwaBJEVjheH8g</td>\n",
       "      <td>329e4yvIujISKGKz1BZZbO</td>\n",
       "    </tr>\n",
       "    <tr>\n",
       "      <th>26</th>\n",
       "      <td>0t6A5IoqSxQzxmMoDkS9Cv</td>\n",
       "      <td>2Z9KL8Zmqx5Sg3cd7Fldhl</td>\n",
       "    </tr>\n",
       "  </tbody>\n",
       "</table>\n",
       "</div>"
      ],
      "text/plain": [
       "                      id_0                    id_1\n",
       "0   0hk4xVujcyOr6USD95wcWb  7Do8se3ZoaVqUt3woqqSrD\n",
       "4   0k70gnDBLPirCltbTzoxuM  5FK3qokBQYxr7ZLkr8GVFn\n",
       "5   1bAftSH8umNcGZ0uyV7LMg  1vqR17Iv8VFdzure1TAXEq\n",
       "6   21ey6s5hEcTcVKDrF5MWby  7uMh23xWiuR7zsNkuNcm2G\n",
       "11  4Cmzjffz7uLaESQIWIs9G5  6XvZkxVvGXWhlDFTR6Q4sj\n",
       "13  0OZ5IlVdYIK1Et3nW6aTO5  6eUofOqC7jS5aPeTa1a71y\n",
       "16  0IpLJsvZHA1op1pw8GAoPu  2QjS2N6sORI7H4qbf6xitS\n",
       "17  2oX42qP5ineK3hrhBECLmj  6aZyMrc4doVtZyKNilOmwu\n",
       "25  2cPqdH7XMvwaBJEVjheH8g  329e4yvIujISKGKz1BZZbO\n",
       "26  0t6A5IoqSxQzxmMoDkS9Cv  2Z9KL8Zmqx5Sg3cd7Fldhl"
      ]
     },
     "execution_count": 107,
     "metadata": {},
     "output_type": "execute_result"
    }
   ],
   "source": [
    "subArtistsFeat = artistsFeats[artistsFeats['id_0'].isin(subSpotifyArtists['spotify_id']) & artistsFeats['id_1'].isin(subSpotifyArtists['spotify_id'])]\n",
    "\n",
    "print(subArtistsFeat.shape)\n",
    "subArtistsFeat.head(10)"
   ]
  },
  {
   "cell_type": "markdown",
   "metadata": {},
   "source": [
    "<h3>Generando el grafo con NetworkX</h3>"
   ]
  },
  {
   "cell_type": "code",
   "execution_count": 108,
   "metadata": {},
   "outputs": [
    {
     "name": "stdout",
     "output_type": "stream",
     "text": [
      "Cantidad de nodos: 20000\n",
      "Cantidad de aristas: 72944\n"
     ]
    }
   ],
   "source": [
    "artistsGraph = nx.Graph()\n",
    "\n",
    "for index, row in subSpotifyArtists.iterrows():\n",
    "    node_id = row['spotify_id']\n",
    "    node_attributes = row.drop('spotify_id')\n",
    "    artistsGraph.add_node(node_id, **node_attributes)\n",
    "\n",
    "for index, row in subArtistsFeat.iterrows():\n",
    "    node_id_0 = row['id_0']\n",
    "    node_id_1 = row['id_1']\n",
    "    artistsGraph.add_edge(node_id_0, node_id_1)\n",
    "\n",
    "# Imprimimos la cantidad de nodos y aristas\n",
    "print(\"Cantidad de nodos:\", artistsGraph.number_of_nodes())\n",
    "print(\"Cantidad de aristas:\", artistsGraph.number_of_edges())"
   ]
  },
  {
   "cell_type": "code",
   "execution_count": 98,
   "metadata": {},
   "outputs": [
    {
     "data": {
      "image/png": "[encoded data removed]",
      "text/plain": [
       "<Figure size 640x480 with 1 Axes>"
      ]
     },
     "metadata": {},
     "output_type": "display_data"
    }
   ],
   "source": [
    "# Pintar el grafo completo (si hay muchos nodos tarda bastante. Muchos = mas de 3000 nodos) \n",
    "if(numberOfNodes<=3000): #Si hay más de 3000 no se visualiza porque tarda demasiado\n",
    "    nx.draw(artistsGraph, node_size=1, alpha=0.9) \n",
    "\n",
    "    plt.show()"
   ]
  },
  {
   "cell_type": "markdown",
   "metadata": {},
   "source": [
    "<h4>Añadiendo la centralidad a la información de los nodos del grafo</h4>"
   ]
  },
  {
   "cell_type": "code",
   "execution_count": 109,
   "metadata": {},
   "outputs": [
    {
     "name": "stdout",
     "output_type": "stream",
     "text": [
      "               spotify_id  centrality\n",
      "0  4lDiJcOJ2GLCK6p9q5BgfK     0.00215\n",
      "1  652XIvIBNGg3C0KIGEJWit     0.00025\n",
      "2  3dXC1YPbnQPsfHPVkm1ipj     0.00025\n",
      "3  74terC9ol9zMo8rfzhSOiG     0.00005\n",
      "4  0FQMb3mVrAKlyU4H5mQOJh     0.00010\n",
      "5  71BhXa24Zf5zcikUb00l2N     0.00015\n",
      "6  3TG1RXLaEhHz5SIPMWahit     0.00005\n",
      "7  7MFvm8pwjLdmVBZddGNiQH     0.00015\n",
      "8  5I82NM6jN4Y267iHwVeNR9     0.00005\n",
      "9  5OkJ74jazRprW3kCTjfgOL     0.00020\n"
     ]
    }
   ],
   "source": [
    "# Calcular la centralidad de grado todos nodos\n",
    "degree_centrality = nx.degree_centrality(artistsGraph)\n",
    "\n",
    "# Crear una lista de tuplas con los valores de centralidad\n",
    "centrality_values = [(node, centrality) for node, centrality in degree_centrality.items()]\n",
    "\n",
    "# Crear un DataFrame con los valores de centralidad\n",
    "centrality_df = pandas.DataFrame(centrality_values, columns=['spotify_id', 'centrality'])\n",
    "\n",
    "# Unir el DataFrame de centralidad con el DataFrame subSpotifyArtists\n",
    "subSpotifyArtists = subSpotifyArtists.merge(centrality_df, on='spotify_id')\n",
    "\n",
    "# Imprimir el DataFrame con la nueva columna\n",
    "print(subSpotifyArtists[['spotify_id', 'centrality']].head(10))\n",
    "\n"
   ]
  },
  {
   "cell_type": "markdown",
   "metadata": {},
   "source": [
    "<h4>Añadiendo el coeficiente de clustering a la información de los nodos del grafo</h4>"
   ]
  },
  {
   "cell_type": "code",
   "execution_count": 110,
   "metadata": {},
   "outputs": [
    {
     "name": "stdout",
     "output_type": "stream",
     "text": [
      "               spotify_id  centrality  clustering\n",
      "0  4lDiJcOJ2GLCK6p9q5BgfK     0.00215    0.131783\n",
      "1  652XIvIBNGg3C0KIGEJWit     0.00025    0.200000\n",
      "2  3dXC1YPbnQPsfHPVkm1ipj     0.00025    0.500000\n",
      "3  74terC9ol9zMo8rfzhSOiG     0.00005    0.000000\n",
      "4  0FQMb3mVrAKlyU4H5mQOJh     0.00010    1.000000\n",
      "5  71BhXa24Zf5zcikUb00l2N     0.00015    1.000000\n",
      "6  3TG1RXLaEhHz5SIPMWahit     0.00005    0.000000\n",
      "7  7MFvm8pwjLdmVBZddGNiQH     0.00015    0.000000\n",
      "8  5I82NM6jN4Y267iHwVeNR9     0.00005    0.000000\n",
      "9  5OkJ74jazRprW3kCTjfgOL     0.00020    0.000000\n"
     ]
    }
   ],
   "source": [
    "# Calcular el coeficiente de clustering de los nodos\n",
    "clustering_coefficient = nx.clustering(artistsGraph)\n",
    "\n",
    "# Crear una lista de tuplas con los valores de coeficiente de clustering\n",
    "clustering_values = [(node, coefficient) for node, coefficient in clustering_coefficient.items()]\n",
    "\n",
    "# Crear un DataFrame con los valores de coeficiente de clustering\n",
    "clustering_df = pandas.DataFrame(clustering_values, columns=['spotify_id', 'clustering'])\n",
    "\n",
    "# Unir el DataFrame de coeficiente de clustering con el DataFrame subSpotifyArtists\n",
    "subSpotifyArtists = subSpotifyArtists.merge(clustering_df, on='spotify_id')\n",
    "\n",
    "# Imprimir el DataFrame con las columnas 'spotify_id' y 'clustering'\n",
    "print(subSpotifyArtists[['spotify_id', 'centrality', 'clustering']].head(10))\n"
   ]
  },
  {
   "cell_type": "markdown",
   "metadata": {},
   "source": [
    "<h4>Añadiendo la comunidad a la información de los nodos del grafo</h4>"
   ]
  },
  {
   "cell_type": "code",
   "execution_count": 111,
   "metadata": {},
   "outputs": [
    {
     "name": "stdout",
     "output_type": "stream",
     "text": [
      "               spotify_id  centrality  clustering  community\n",
      "0  4lDiJcOJ2GLCK6p9q5BgfK     0.00215    0.131783          1\n",
      "1  652XIvIBNGg3C0KIGEJWit     0.00025    0.200000          1\n",
      "2  3dXC1YPbnQPsfHPVkm1ipj     0.00025    0.500000          2\n",
      "3  74terC9ol9zMo8rfzhSOiG     0.00005    0.000000          3\n",
      "4  0FQMb3mVrAKlyU4H5mQOJh     0.00010    1.000000          4\n",
      "5  71BhXa24Zf5zcikUb00l2N     0.00015    1.000000          5\n",
      "6  3TG1RXLaEhHz5SIPMWahit     0.00005    0.000000          2\n",
      "7  7MFvm8pwjLdmVBZddGNiQH     0.00015    0.000000          6\n",
      "8  5I82NM6jN4Y267iHwVeNR9     0.00005    0.000000          7\n",
      "9  5OkJ74jazRprW3kCTjfgOL     0.00020    0.000000          8\n"
     ]
    }
   ],
   "source": [
    "# Detectar comunidades en el grafo utilizando el algoritmo de Label Propagation\n",
    "communities = nx.algorithms.community.label_propagation.label_propagation_communities(artistsGraph)\n",
    "\n",
    "# Crear un diccionario para mapear cada nodo a su número de comunidad\n",
    "node_community_map = {}\n",
    "for i, community in enumerate(communities):\n",
    "    for node in community:\n",
    "        node_community_map[node] = i + 1\n",
    "\n",
    "# Agregar la columna 'community' al DataFrame subSpotifyArtists\n",
    "subSpotifyArtists['community'] = subSpotifyArtists['spotify_id'].map(node_community_map)\n",
    "\n",
    "# Imprimir el DataFrame con la nueva columna 'community'\n",
    "print(subSpotifyArtists[['spotify_id', 'centrality', 'clustering', 'community']].head(10))\n"
   ]
  },
  {
   "cell_type": "code",
   "execution_count": null,
   "metadata": {},
   "outputs": [],
   "source": []
  },
  {
   "cell_type": "code",
   "execution_count": null,
   "metadata": {},
   "outputs": [],
   "source": []
  },
  {
   "cell_type": "code",
   "execution_count": null,
   "metadata": {},
   "outputs": [],
   "source": []
  },
  {
   "cell_type": "code",
   "execution_count": null,
   "metadata": {},
   "outputs": [],
   "source": []
  }
 ],
 "metadata": {
  "kernelspec": {
   "display_name": "Python 3 (ipykernel)",
   "language": "python",
   "name": "python3"
  },
  "language_info": {
   "codemirror_mode": {
    "name": "ipython",
    "version": 3
   },
   "file_extension": ".py",
   "mimetype": "text/x-python",
   "name": "python",
   "nbconvert_exporter": "python",
   "pygments_lexer": "ipython3",
   "version": "3.9.13"
  }
 },
 "nbformat": 4,
 "nbformat_minor": 2
}
